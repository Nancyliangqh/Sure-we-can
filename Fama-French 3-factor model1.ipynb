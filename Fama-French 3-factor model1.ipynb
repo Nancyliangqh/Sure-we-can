{
 "cells": [
  {
   "cell_type": "code",
   "execution_count": null,
   "metadata": {},
   "outputs": [],
   "source": [
    "### Fama-French 3-factor model\n",
    "import statsmodels.api\n",
    "import numpy\n",
    "import pandas\n",
    "\n",
    "# set basic parameters and variables\n",
    "def basic_parameters():\n",
    "    frequency = 1 # transfer frequency(every day)\n",
    "    numbers = 30 # total numbers of stocks in the portfolio\n",
    "    share = 100 # shares for each stock\n",
    "    factors = 3 # Fama-French 3-factor model\n",
    "def basic_variables():\n",
    "    benchmark = # risk free interest rate\n",
    "    start_day = '' # the beginning day for trading\n",
    "    end_day = '' # the end day for trading\n",
    "\n",
    "    \n",
    "    \n",
    "    \n",
    "    \n",
    "\n"
   ]
  }
 ],
 "metadata": {
  "kernelspec": {
   "display_name": "Python 3",
   "language": "python",
   "name": "python3"
  },
  "language_info": {
   "codemirror_mode": {
    "name": "ipython",
    "version": 3
   },
   "file_extension": ".py",
   "mimetype": "text/x-python",
   "name": "python",
   "nbconvert_exporter": "python",
   "pygments_lexer": "ipython3",
   "version": "3.6.5"
  }
 },
 "nbformat": 4,
 "nbformat_minor": 2
}
