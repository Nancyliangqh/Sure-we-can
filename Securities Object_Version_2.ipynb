{
 "cells": [
  {
   "cell_type": "code",
   "execution_count": 1,
   "metadata": {},
   "outputs": [],
   "source": [
    "import numpy as np\n",
    "import pandas as pd"
   ]
  },
  {
   "cell_type": "code",
   "execution_count": 109,
   "metadata": {},
   "outputs": [],
   "source": [
    "\"\"\"\n",
    "A class that performs as one kind of stocks\n",
    "\"\"\"\n",
    "\n",
    "class Securities:\n",
    "#     class level attributes\n",
    "    \n",
    "#     Initialized with daily closed price\n",
    "#     price and shares are the present price and shares to initialized\n",
    "#     preprice in the price of previous period \n",
    "    def __init__(self, name: str, price, shares):\n",
    "        self.price = price\n",
    "        self.shares = shares\n",
    "        self.name = name\n",
    "        setattr(self, 'preprice', price) # automatically initiate preprice and preshares attributes to calculate gains from this stock\n",
    "        setattr(self, 'preshares', shares)\n",
    "        \n",
    "    @property\n",
    "    def price(self):\n",
    "        return self._price\n",
    "        \n",
    "    @price.setter\n",
    "    def price(self,price):\n",
    "        if price < 0:\n",
    "            raise ValueError(\"Price of securities cannot be negative\")\n",
    "        self._price = price\n",
    "        \n",
    "# -----------------------------------------------------------------------\n",
    "# setting methods\n",
    "    def reset(self, new_price, shares_to_modify):\n",
    "        self.preshares = self.shares\n",
    "        if shares_to_modify < 0:\n",
    "            if -shares_to_modify > self.shares:\n",
    "                raise ValueError('Can not sell more shares than you have')\n",
    "            else:\n",
    "                self.shares += shares_to_modify\n",
    "        else:\n",
    "            self.shares += shares_to_modify\n",
    "        self.preprice = self.price\n",
    "        self.price = new_price\n",
    "        \n",
    "    def gains(self):\n",
    "        return (self.price - self.preprice) * (self.preshares - self.shares)"
   ]
  },
  {
   "cell_type": "code",
   "execution_count": 46,
   "metadata": {},
   "outputs": [],
   "source": [
    "\"\"\"\n",
    "A class that performs as a securities account\n",
    "\"\"\"\n",
    "class Account:\n",
    "#     class level attributes\n",
    "    INITCASH = 1000000\n",
    "    Tax = 0.25\n",
    "    \n",
    "#     stocks are one or several Securities objects\n",
    "#     marval -- market value of the portfolio\n",
    "    def __init__(self,*stocks):\n",
    "        values = [*stocks] # portfoio of this account\n",
    "        keys = [y.name for y in [x for x in [*stocks]]] # list of stocks' name in portfolio\n",
    "        self.port = dict(zip(keys, values))\n",
    "        marval = sum([y.position for y in [x for x in [*stocks]]])\n",
    "        if marval > self.INITCASH:\n",
    "            raise ValueError('Cannot initiate account with total market value more than initial cash')\n",
    "        else:\n",
    "            self.marval = marval # total market value\n",
    "            setattr(self, 'cashleft', self.INITCASH - marval)\n",
    "            setattr(self, 'cashpool', self.INITCASH - marval)\n",
    "    \n",
    "# -------------------------------------------------------------------------\n",
    "# Start setting methods\n",
    "    def openposition(self, stock_name, stock_price, stock_shares):\n",
    "        if stock_name in self.port.keys():\n",
    "            raise ValueError('Already have such a stock in portfolio, need not to open a position')\n",
    "        stock = Securities(stock_name, stock_price, stock_shares)\n",
    "        gen = (x for x in self.port.values())\n",
    "        self.__init__(stock, *gen)\n",
    "        \n",
    "# The reallocation method will take a dict as input \n",
    "# The dict looks like {'AAPL':0,'GOOGL':100,'ORCL':-100,...}, the zero, posotive and negative value represent unchange, overweight and reduction respectively\n",
    "# The method has 3 functions:\n",
    "#                             reinitiate the Account object: if the asset already exists in portfolio, change its shares(change 0 means unchange), if not we add it to our portfolio and relatively delete one from portfolio.\n",
    "#                             calculate the gains and losses according to market value before and after reallocation (price*shares - preprice*previous shares)\n",
    "#                             reset the preprice attribute of Securities object to be the current price\n",
    "    def reallocation(self, premarval, adjusts: dict): \n",
    "        # premarval is the previous period total market value\n",
    "        # adjusts is a list of daily shares adjustment\n",
    "        premarval = self.marval\n",
    "        oldkey = self.port.keys()\n",
    "        newkey = adjusts.keys()\n",
    "        for i in range(len(adjusts)):                 \n",
    "#             In the case that the stock to reallocate is not in original portfolio, open a position.\n",
    "            if newkey[i] not in oldkey:\n",
    "                slef.openposition()\n",
    "            "
   ]
  },
  {
   "cell_type": "code",
   "execution_count": 47,
   "metadata": {},
   "outputs": [
    {
     "data": {
      "text/plain": [
       "2200"
      ]
     },
     "execution_count": 47,
     "metadata": {},
     "output_type": "execute_result"
    }
   ],
   "source": [
    "APPL = Securities('APPL',10,200)\n",
    "GOOG = Securities('GOOG',2,100)\n",
    "account = Account(APPL,GOOG)\n",
    "account.marval"
   ]
  },
  {
   "cell_type": "code",
   "execution_count": 48,
   "metadata": {},
   "outputs": [
    {
     "data": {
      "text/plain": [
       "2200"
      ]
     },
     "execution_count": 48,
     "metadata": {},
     "output_type": "execute_result"
    }
   ],
   "source": [
    "account.openposition('ORCL', 16, 120)"
   ]
  },
  {
   "cell_type": "code",
   "execution_count": 49,
   "metadata": {},
   "outputs": [
    {
     "data": {
      "text/plain": [
       "{'ORCL': <__main__.Securities at 0x10dece9e8>,\n",
       " 'APPL': <__main__.Securities at 0x10dee7390>,\n",
       " 'GOOG': <__main__.Securities at 0x10dee73c8>}"
      ]
     },
     "execution_count": 49,
     "metadata": {},
     "output_type": "execute_result"
    }
   ],
   "source": [
    "account.port"
   ]
  },
  {
   "cell_type": "code",
   "execution_count": 50,
   "metadata": {},
   "outputs": [
    {
     "data": {
      "text/plain": [
       "4120"
      ]
     },
     "execution_count": 50,
     "metadata": {},
     "output_type": "execute_result"
    }
   ],
   "source": [
    "account.marval"
   ]
  },
  {
   "cell_type": "code",
   "execution_count": 45,
   "metadata": {},
   "outputs": [
    {
     "data": {
      "text/plain": [
       "4120"
      ]
     },
     "execution_count": 45,
     "metadata": {},
     "output_type": "execute_result"
    }
   ],
   "source": [
    "account.premarval"
   ]
  },
  {
   "cell_type": "code",
   "execution_count": 105,
   "metadata": {},
   "outputs": [],
   "source": [
    "appl = Securities('APPL', 18.8, 200)"
   ]
  },
  {
   "cell_type": "code",
   "execution_count": 106,
   "metadata": {},
   "outputs": [
    {
     "data": {
      "text/plain": [
       "18.8"
      ]
     },
     "execution_count": 106,
     "metadata": {},
     "output_type": "execute_result"
    }
   ],
   "source": [
    "appl.price"
   ]
  },
  {
   "cell_type": "code",
   "execution_count": 107,
   "metadata": {},
   "outputs": [],
   "source": [
    "appl.reset(21.2, -100)"
   ]
  },
  {
   "cell_type": "code",
   "execution_count": 108,
   "metadata": {},
   "outputs": [
    {
     "name": "stdout",
     "output_type": "stream",
     "text": [
      "21.2 100 239.99999999999986\n",
      "18.8 200\n"
     ]
    }
   ],
   "source": [
    "print(appl.price,appl.shares,appl.gains())\n",
    "print(appl.preprice,appl.preshares)"
   ]
  },
  {
   "cell_type": "code",
   "execution_count": 79,
   "metadata": {},
   "outputs": [],
   "source": [
    "appl.buyin(100)"
   ]
  },
  {
   "cell_type": "code",
   "execution_count": 80,
   "metadata": {},
   "outputs": [
    {
     "data": {
      "text/plain": [
       "5740.0"
      ]
     },
     "execution_count": 80,
     "metadata": {},
     "output_type": "execute_result"
    }
   ],
   "source": [
    "appl.position"
   ]
  },
  {
   "cell_type": "code",
   "execution_count": null,
   "metadata": {},
   "outputs": [],
   "source": []
  }
 ],
 "metadata": {
  "kernelspec": {
   "display_name": "Python 3",
   "language": "python",
   "name": "python3"
  },
  "language_info": {
   "codemirror_mode": {
    "name": "ipython",
    "version": 3
   },
   "file_extension": ".py",
   "mimetype": "text/x-python",
   "name": "python",
   "nbconvert_exporter": "python",
   "pygments_lexer": "ipython3",
   "version": "3.6.5"
  }
 },
 "nbformat": 4,
 "nbformat_minor": 2
}
