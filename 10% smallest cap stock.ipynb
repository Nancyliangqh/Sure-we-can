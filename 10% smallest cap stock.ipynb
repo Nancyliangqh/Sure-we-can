{
 "cells": [
  {
   "cell_type": "markdown",
   "metadata": {},
   "source": [
    "# N Smallest Capitalization Stock"
   ]
  },
  {
   "cell_type": "markdown",
   "metadata": {},
   "source": [
    "1. Set the number of stocks want to trade, N.\n",
    "1. 设定好要交易的股票数量stocksnum\n",
    "\n",
    "2. Find the first N number of stocks with the smallest market capitalization.\n",
    "2. 每天找出市值排名最小的前stocksnum只股票作为要买入的股票。\n",
    "\n",
    "3. Sell the stock if the price of the current stock holding is not small enough anymore (no in the list of N stocks)\n",
    "3. 若已持有的股票的市值已经不够小而不在要买入的股票中，则卖出这些股票。\n",
    "\n",
    "4. Buy the new stocks from the current list of N stocks with the smallest market capitalization.\n",
    "4. 买入要买入的股票，买入金额为当前可用资金的stocksnum分之一。"
   ]
  },
  {
   "cell_type": "code",
   "execution_count": 51,
   "metadata": {},
   "outputs": [],
   "source": [
    "import pandas as pd\n",
    "import numpy as np"
   ]
  },
  {
   "cell_type": "code",
   "execution_count": 93,
   "metadata": {},
   "outputs": [],
   "source": [
    "# Read in the sample data csv  (use df scraped from yahoo finance)\n",
    "# Use Close and Volume value to get daily market captalization for each stock \n",
    "# Market Cap = Close * Volume for each stock\n",
    "df = pd.read_csv('SampleData.csv')\n",
    "columns = df.columns.tolist()\n",
    "\n",
    "\n",
    "for x in columns[1:26]:\n",
    "    index = columns.index(x)\n",
    "    if index < 26:\n",
    "        market = df[df.columns[index]] * df[df.columns[index+25]]\n",
    "        df[str(x) + '_' + 'Mkt'] = market\n",
    "\n",
    "# Make the 'Date'\n",
    "df = df.set_index('Date')"
   ]
  },
  {
   "cell_type": "code",
   "execution_count": 101,
   "metadata": {},
   "outputs": [],
   "source": [
    "# Only capture the Market Cap as needed\n",
    "df_small = df.iloc[:, 50:76]\n",
    "small = df_small.T"
   ]
  },
  {
   "cell_type": "code",
   "execution_count": 50,
   "metadata": {},
   "outputs": [],
   "source": [
    "# df.columns.get_loc('AAPL_Volume')\n",
    "# df[df.columns[columns.index('AAPL_Volume')+25]]"
   ]
  },
  {
   "cell_type": "code",
   "execution_count": 33,
   "metadata": {},
   "outputs": [],
   "source": []
  },
  {
   "cell_type": "code",
   "execution_count": 1,
   "metadata": {},
   "outputs": [],
   "source": [
    "import pandas as pd\n",
    "import matplotlib.pyplot as plt\n",
    "pd.set_option('expand_frame_repr', False)\n",
    "\n",
    "#open, high, low, close, volumn, adjVolumn, date, MarketCap\n",
    "\n",
    "#import dataset from Yahoo_finance 导入数据\n",
    "stock_data = pd.read_csv('',#usecols = ['price','date',] encoding = 'gbk'--read chinese)\n",
    "stock_data.columns = [i.encode('utf8') for i in stock_data.columns]\n",
    "stock_data['交易日期'] = pd.to_datetime(stock_data['交易日期'])\n",
    "\n",
    "# 1. 设定好要交易的股票数量stocksnum\n",
    "stocknum = 30\n",
    "\n",
    "# 2. 每天找出市值排名最小的前stocksnum只股票作为要买入的股票。\n",
    "#Sort the stocks by market cap and date\n",
    "stock_data.sort_values(by=['date','marketcap', #inplace = True])\n",
    "\n",
    "holding_first=holding_first.sort(columns='negMarketValue')[0:n]  \n",
    "\n",
    "\n",
    "#开始的时间太早？\n",
    "stock_data = stock_data[stock_data['date'] > pd.to_datetime('2016-11-01')]\n",
    "\n",
    "#删去月末停牌？最后一天不交易，不能买入\n",
    "stock_data = stock_data[stock_data['是否交易'] != 0]\n",
    "\n",
    "#该月交易时间过短，去除?\n",
    "stock_data = stock_data[stock_data['交易天数'] >= 10]\n",
    "\n",
    "#计算所以股票在下个月的平均涨幅\n",
    "output = pd.DataFrame()\n",
    "output['所有股票下个月的涨幅'] = stock_data.groupby('交易日期')['下月涨幅'].mean()\n",
    "\n",
    "#计算每月市值排名\n",
    "stock_data['市值_排名'] = stock_data.groupby('交易日期')['总市值'].rank()\n",
    "\n",
    "#Pick the top 30 stocks -- lowest market cap\n",
    "stock_data = stock_data['市值_排名'] <= 30\n",
    "\n",
    "\n",
    "\n",
    "#create a list that contains the top 30 stocks.\n",
    "buylist = []\n",
    "    for i in range(30):\n",
    "              \n",
    "\n",
    "\n",
    "\n",
    "# 3. 若已持有的股票的市值已经不够小而不在要买入的股票中，则卖出这些股票。\n",
    "\n",
    "# 4. 买入要买入的股票，买入金额为当前可用资金的stocksnum分之一。\n"
   ]
  },
  {
   "cell_type": "code",
   "execution_count": 3,
   "metadata": {},
   "outputs": [],
   "source": [
    "def initialize(context):\n",
    "      run_daily(period,time='every_bar')\n",
    "      # 设定好要交易的股票数量stocksnum\n",
    "      g.stocksnum = 10\n",
    "\n",
    "def period(context):\n",
    "      # 代码：找出市值排名最小的前stocksnum只股票作为要买入的股票\n",
    "      # 获取上证指数和深证综指的成分股代码并连接，即为全A股市场所有股票的股票代码\n",
    "      # 用加号可以连接两个list\n",
    "    scu = get_index_stocks('000001.XSHG')+get_index_stocks('399106.XSHE')\n",
    "      # 选出在scu内的市值排名最小的前stocksnum只股票\n",
    "    q=query(valuation.code\n",
    "                  ).filter(\n",
    "                      valuation.code.in_(scu)\n",
    "                  ).order_by(\n",
    "                      valuation.market_cap.asc()\n",
    "                  ).limit(g.stocksnum)\n",
    "    df = get_fundamentals(q)\n",
    "      # 选取股票代码并转为list\n",
    "    buylist=list(df['code'])\n",
    "\n",
    "      # 代码：若已持有的股票的市值已经不够小而不在要买入的股票中，则卖出这些股票。\n",
    "      # 对于每个当下持有的股票进行判断：现在是否已经不在buylist里，如果是则卖出\n",
    "    for stock in context.portfolio.positions:\n",
    "        if stock not in buylist: #如果stock不在buylist\n",
    "            order_target(stock, 0) #调整stock的持仓为0，即卖出\n",
    "\n",
    "      # 代码：买入要买入的股票，买入金额为可用资金的stocksnum分之一\n",
    "      # 将资金分成g.stocksnum份\n",
    "        position_per_stk = context.portfolio.cash/g.stocksnum\n",
    "      # 用position_per_stk大小的g.stocksnum份资金去买buylist中的股票\n",
    "    for stock in buylist:\n",
    "        order_value(stock, position_per_stk)"
   ]
  },
  {
   "cell_type": "code",
   "execution_count": null,
   "metadata": {},
   "outputs": [],
   "source": []
  },
  {
   "cell_type": "code",
   "execution_count": null,
   "metadata": {},
   "outputs": [],
   "source": []
  }
 ],
 "metadata": {
  "kernelspec": {
   "display_name": "Python 3",
   "language": "python",
   "name": "python3"
  },
  "language_info": {
   "codemirror_mode": {
    "name": "ipython",
    "version": 3
   },
   "file_extension": ".py",
   "mimetype": "text/x-python",
   "name": "python",
   "nbconvert_exporter": "python",
   "pygments_lexer": "ipython3",
   "version": "3.6.5"
  }
 },
 "nbformat": 4,
 "nbformat_minor": 2
}
