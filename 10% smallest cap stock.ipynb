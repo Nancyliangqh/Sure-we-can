{
 "cells": [
  {
   "cell_type": "markdown",
   "metadata": {},
   "source": [
    "# N Smallest Capitalization Stock"
   ]
  },
  {
   "cell_type": "markdown",
   "metadata": {},
   "source": [
    "1. Set the number of stocks want to trade, N.\n",
    "1. 设定好要交易的股票数量stocksnum\n",
    "\n",
    "2. Find the first N number of stocks with the smallest market capitalization.\n",
    "2. 每天找出市值排名最小的前stocksnum只股票作为要买入的股票。\n",
    "\n",
    "3. Sell the stock if the price of the current stock holding is not small enough anymore (no in the list of N stocks)\n",
    "3. 若已持有的股票的市值已经不够小而不在要买入的股票中，则卖出这些股票。\n",
    "\n",
    "4. Buy the new stocks from the current list of N stocks with the smallest market capitalization.\n",
    "4. 买入要买入的股票，买入金额为当前可用资金的stocksnum分之一。"
   ]
  },
  {
   "cell_type": "code",
   "execution_count": 1,
   "metadata": {},
   "outputs": [],
   "source": [
    "import pandas as pd\n",
    "import numpy as np"
   ]
  },
  {
   "cell_type": "code",
   "execution_count": 2,
   "metadata": {},
   "outputs": [],
   "source": [
    "# Read in the sample data csv  (use df scraped from yahoo finance)\n",
    "# Use Close and Volume value to get daily market captalization for each stock \n",
    "# Market Cap = Close * Volume for each stock\n",
    "df = pd.read_csv('SampleData.csv')\n",
    "columns = df.columns.tolist()\n",
    "\n",
    "for x in columns[1:26]:\n",
    "    index = columns.index(x)\n",
    "    if index < 26:\n",
    "        market = df[df.columns[index]] * df[df.columns[index+25]]\n",
    "        df[str(x) + '_' + 'Mkt'] = market\n",
    "\n",
    "\n",
    "# Make the 'Date' row index\n",
    "df = df.set_index('Date')"
   ]
  },
  {
   "cell_type": "code",
   "execution_count": 3,
   "metadata": {
    "scrolled": true
   },
   "outputs": [],
   "source": [
    "# Only capture the Market Cap as needed\n",
    "# [:, 50:76] Depends on the dataset (50:76) numbers need to change\n",
    "df_small = df.iloc[:, 50:76]\n",
    "small = df_small.T"
   ]
  },
  {
   "cell_type": "code",
   "execution_count": null,
   "metadata": {},
   "outputs": [],
   "source": []
  },
  {
   "cell_type": "code",
   "execution_count": 96,
   "metadata": {},
   "outputs": [],
   "source": [
    "# small1 = small.sort_values([small.columns[0]])\n",
    "# list1 = np.array(small1.index[0:5]).tolist()\n",
    "# choice = np.array(small1.index[0:stocknum]).tolist()\n",
    "# choice1 = [i.split('_')[0] for i in choice]\n",
    "# small2 = small.sort_values([small.columns[1]])\n",
    "# list2 = np.array(small2.index[0:5]).tolist()\n",
    "# print(small1)\n",
    "#print(choice)\n",
    "#print(small2)\n",
    "# a = []\n",
    "# a.append(list1)\n",
    "# a.append(list2)\n",
    "# print(a)"
   ]
  },
  {
   "cell_type": "code",
   "execution_count": null,
   "metadata": {},
   "outputs": [],
   "source": []
  },
  {
   "cell_type": "markdown",
   "metadata": {},
   "source": [
    "FINAL USE!!!!"
   ]
  },
  {
   "cell_type": "code",
   "execution_count": 136,
   "metadata": {},
   "outputs": [],
   "source": [
    "def second_day(x): # x - the first day!!!!!!\n",
    "    position = small.columns.tolist().index(x) # get the column index of second day of the date x input\n",
    "    y = small.columns[position + 1]\n",
    "    small2 = small.sort_values([y]) # sort according to date x\n",
    "    choice2 = np.array(small2.index[0:stocknum]).tolist() # get the smallest N(5) stocks of the second day\n",
    "    choice2 = [i.split('_')[0] for i in choice2]\n",
    "    ones = np.ones(stocknum, dtype=int) # give all 1 to  to buy for each stock\n",
    "    a = dict(zip(choice2, ones))\n",
    "\n",
    "    \n",
    "    ### function to get the initial basket from date x ###\n",
    "    def initial_day(x, cashpool, stocknum):\n",
    "        position = small.columns.tolist().index(x) # get the column index of the date x input\n",
    "        small1 = small.sort_values([x]) # sort according to date x\n",
    "        choice = np.array(small1.index[0:stocknum]).tolist() # get the smallest N(5) stocks of the day\n",
    "        choice = [i.split('_')[0] for i in choice]\n",
    "\n",
    "        # get the column name I want to find the close price for each stock on day x\n",
    "        price = [i.split('_')[0] + \"_\" + 'Close' for i in choice]\n",
    "\n",
    "        # find the close price for each stock on day x\n",
    "        close = []\n",
    "        for i in range(len(price)):\n",
    "            b = df.loc[x, price[i]]\n",
    "            close.append(b)\n",
    "            invest = cashpool / stocknum\n",
    "            share = [int(invest / i) for i in close]\n",
    "            buy_dict = dict(zip(choice, share)) # update buy_list for INITIAL day x\n",
    "        return buy_dict\n",
    "\n",
    "    \n",
    "    ### FINALIZED 3 dicts to return at the end ###\n",
    "    buy = {k:a[k] for k in a if k not in buy_dict} # in second day's purchase list, not in day x, buy\n",
    "    keep = {k:0 for k in a if k in buy_dict} # in both days' purchase list, keep no change\n",
    "    sell = {k:-buy_dict[k] for k,v in buy_dict.items() if k not in b} # in day x not in second day's purchase, sell \n",
    "    \n",
    "    return (buy, keep, sell)\n",
    "    \n",
    "\n",
    "#     # get the column name I want to find the close price for each stock on day x\n",
    "#     price2 = [i.split('_')[0] + '_' + 'Close' for i in choice2]\n",
    "    \n",
    "#     # find the close price for each stock on day x\n",
    "#     close2 = []\n",
    "#     for i in range(len(price2)):\n",
    "#         b = df.loc[x, price2[i]]\n",
    "#         close2.append(b)\n",
    "#         invest = cashpool / stocknum\n",
    "#         share2 = [int(invest / i) for i in close2]\n",
    "#         buy_dict = dict(zip(choice2, share2)) # update buy_list for INITIAL day x\n",
    "     \n",
    "#     return buy_dict"
   ]
  },
  {
   "cell_type": "code",
   "execution_count": 135,
   "metadata": {},
   "outputs": [
    {
     "data": {
      "text/plain": [
       "({'X': 1, 'SIRI': 1}, {'LYG': 0, 'ABEV': 0, 'CHK': 0}, {'SWN': -3, 'FCX': -1})"
      ]
     },
     "execution_count": 135,
     "metadata": {},
     "output_type": "execute_result"
    }
   ],
   "source": [
    "second_day('2018-11-13')"
   ]
  },
  {
   "cell_type": "code",
   "execution_count": null,
   "metadata": {},
   "outputs": [],
   "source": []
  },
  {
   "cell_type": "code",
   "execution_count": null,
   "metadata": {},
   "outputs": [],
   "source": []
  },
  {
   "cell_type": "code",
   "execution_count": null,
   "metadata": {},
   "outputs": [],
   "source": []
  },
  {
   "cell_type": "markdown",
   "metadata": {},
   "source": [
    "TRIAL USE"
   ]
  },
  {
   "cell_type": "code",
   "execution_count": 76,
   "metadata": {},
   "outputs": [],
   "source": [
    "def initial_day(x, cashpool, stocknum):\n",
    "    position = small.columns.tolist().index(x) # get the column index of the date x input\n",
    "    small1 = small.sort_values([x]) # sort according to date x\n",
    "    choice = np.array(small1.index[0:stocknum]).tolist() # get the smallest N(5) stocks of the day\n",
    "    choice = [i.split('_')[0] for i in choice]\n",
    "    \n",
    "    # get the column name I want to find the close price for each stock on day x\n",
    "    price = [i.split('_')[0] + \"_\" + 'Close' for i in choice]\n",
    "    \n",
    "    # find the close price for each stock on day x\n",
    "    close = []\n",
    "    for i in range(len(price)):\n",
    "        b = df.loc[x, price[i]]\n",
    "        close.append(b)\n",
    "        invest = cashpool / stocknum\n",
    "        share = [int(invest / i) for i in close]\n",
    "        buy_dict = dict(zip(choice, share)) # update buy_list for INITIAL day x\n",
    "    return buy_dict"
   ]
  },
  {
   "cell_type": "code",
   "execution_count": 101,
   "metadata": {},
   "outputs": [],
   "source": [
    "buy_dict = {'LYG': 6, 'ABEV': 4, 'SWN': 3, 'CHK': 5, 'FCX': 1}\n",
    "a = {'LYG': 1, 'ABEV': 1, 'X': 1, 'CHK': 1, 'FCX': 1}"
   ]
  },
  {
   "cell_type": "code",
   "execution_count": 132,
   "metadata": {},
   "outputs": [
    {
     "data": {
      "text/plain": [
       "{'LYG': 0, 'ABEV': 0, 'CHK': 0, 'FCX': 0}"
      ]
     },
     "execution_count": 132,
     "metadata": {},
     "output_type": "execute_result"
    }
   ],
   "source": [
    "buy = {k:a[k] for k in a if k not in buy_dict} # in second day's purchase list, not in day x, buy\n",
    "keep = {k:0 for k in a if k in buy_dict} # in both days' purchase list, keep no change\n",
    "sell = {k:-buy_dict[k] for k,v in buy_dict.items() if k not in b} # in day x not in second day's purchase, sell \n",
    "# sellname = [i.split('_')[0] + '_' + 'Close' for i in key]\n",
    "# sellprice = [df.loc['2018-11-13', sellname[i]] for i in range(len(sellname))]"
   ]
  },
  {
   "cell_type": "code",
   "execution_count": 72,
   "metadata": {},
   "outputs": [
    {
     "data": {
      "text/plain": [
       "{'LYG': 6, 'ABEV': 4, 'SWN': 3, 'CHK': 5, 'FCX': 1}"
      ]
     },
     "execution_count": 72,
     "metadata": {},
     "output_type": "execute_result"
    }
   ],
   "source": [
    "initial_day('2018-11-12',100, 5)"
   ]
  },
  {
   "cell_type": "code",
   "execution_count": 73,
   "metadata": {},
   "outputs": [
    {
     "data": {
      "text/plain": [
       "{'LYG': 6, 'ABEV': 4, 'X': 0, 'CHK': 5, 'FCX': 1}"
      ]
     },
     "execution_count": 73,
     "metadata": {},
     "output_type": "execute_result"
    }
   ],
   "source": [
    "initial_day('2018-11-13',100, 5)"
   ]
  },
  {
   "cell_type": "code",
   "execution_count": null,
   "metadata": {},
   "outputs": [],
   "source": []
  },
  {
   "cell_type": "code",
   "execution_count": null,
   "metadata": {},
   "outputs": [],
   "source": []
  },
  {
   "cell_type": "code",
   "execution_count": null,
   "metadata": {},
   "outputs": [],
   "source": []
  },
  {
   "cell_type": "code",
   "execution_count": null,
   "metadata": {},
   "outputs": [],
   "source": []
  },
  {
   "cell_type": "code",
   "execution_count": 57,
   "metadata": {},
   "outputs": [],
   "source": [
    "# create portfolio_list for calculating returns\n",
    "def portfolio_of_date(x):\n",
    "    position = small.columns.tolist().index(x)\n",
    "    \n",
    "    buy = []\n",
    "    for i in range (len(small.columns)):\n",
    "        small1 = small.sort_values([a.columns[i]])\n",
    "        ones = np.ones(5, dtype=int)\n",
    "        choice = np.array(small1.index[0:5]).tolist()\n",
    "        c = dict(zip(choice, ones))                      \n",
    "        buy.append(c)\n",
    "    \n",
    "    # 'portfolio' is same as 'buy' on the first day(buy top 5 stocks whose market values are smallest)\n",
    "    portfolio_list = [buy[0]]\n",
    "    for i in range(len(buy) - 1):\n",
    "        dictMerged = dict(buy[i], **buy[i+1]) # merge dictionarys\n",
    "        for j in buy[i]:\n",
    "            if j in buy[i+1]: # if stock A exists in the both portfolios, we set it to be 0 in the merged portfolio\n",
    "                dictMerged[j] = 0 # 0 means no actions\n",
    "                \n",
    "            else:            # if stock A exists in the first portfolio but not in the second portfolio, we set it to be -1 in the merged portfolio\n",
    "                dictMerged[j] = -1 # -1 means shorting the stock\n",
    "                \n",
    "                             # if stock A exists in the second portfolio but not in the first portfolio, we set it to be 1 in the merged portfolio\n",
    "                             # 1 means longing the stock(same as 'buy')\n",
    "                             \n",
    "        portfolio_list.append(dictMerged)\n",
    "    return portfolio_list[position] # getting portfolio_list during the trading days"
   ]
  },
  {
   "cell_type": "code",
   "execution_count": 64,
   "metadata": {},
   "outputs": [],
   "source": [
    "a = portfolio_of_date('2016-11-28')"
   ]
  }
 ],
 "metadata": {
  "kernelspec": {
   "display_name": "Python 3",
   "language": "python",
   "name": "python3"
  },
  "language_info": {
   "codemirror_mode": {
    "name": "ipython",
    "version": 3
   },
   "file_extension": ".py",
   "mimetype": "text/x-python",
   "name": "python",
   "nbconvert_exporter": "python",
   "pygments_lexer": "ipython3",
   "version": "3.6.5"
  }
 },
 "nbformat": 4,
 "nbformat_minor": 2
}
