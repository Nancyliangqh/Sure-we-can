{
 "cells": [
  {
   "cell_type": "markdown",
   "metadata": {},
   "source": [
    "# N Smallest Capitalization Stock"
   ]
  },
  {
   "cell_type": "markdown",
   "metadata": {},
   "source": [
    "1. Set the number of stocks want to trade, N.\n",
    "1. 设定好要交易的股票数量stocksnum\n",
    "\n",
    "2. Find the first N number of stocks with the smallest market capitalization.\n",
    "2. 每天找出市值排名最小的前stocksnum只股票作为要买入的股票。\n",
    "\n",
    "3. Sell the stock if the price of the current stock holding is not small enough anymore (no in the list of N stocks)\n",
    "3. 若已持有的股票的市值已经不够小而不在要买入的股票中，则卖出这些股票。\n",
    "\n",
    "4. Buy the new stocks from the current list of N stocks with the smallest market capitalization.\n",
    "4. 买入要买入的股票，买入金额为当前可用资金的stocksnum分之一。"
   ]
  },
  {
   "cell_type": "code",
   "execution_count": 1,
   "metadata": {},
   "outputs": [],
   "source": [
    "import pandas as pd\n",
    "import numpy as np"
   ]
  },
  {
   "cell_type": "code",
   "execution_count": 164,
   "metadata": {},
   "outputs": [],
   "source": [
    "# Read in the sample data csv  (use df scraped from yahoo finance)\n",
    "# Use Close and Volume value to get daily market captalization for each stock \n",
    "# Market Cap = Close * Volume for each stock\n",
    "df = pd.read_csv('SampleData.csv')\n",
    "columns = df.columns.tolist()\n",
    "\n",
    "for x in columns[1:26]:\n",
    "    index = columns.index(x)\n",
    "    if index < 26:\n",
    "        market = df[df.columns[index]] * df[df.columns[index+25]]\n",
    "        df[str(x) + '_' + 'Mkt'] = market\n",
    "\n",
    "\n",
    "# Make the 'Date' row index\n",
    "df = df.set_index('Date')"
   ]
  },
  {
   "cell_type": "code",
   "execution_count": 59,
   "metadata": {
    "scrolled": true
   },
   "outputs": [],
   "source": [
    "# Only capture the Market Cap as needed\n",
    "# [:, 50:76] Depends on the dataset (50:76) numbers need to change\n",
    "df_small = df.iloc[:, 50:76]\n",
    "small = df_small.T"
   ]
  },
  {
   "cell_type": "code",
   "execution_count": null,
   "metadata": {},
   "outputs": [],
   "source": []
  },
  {
   "cell_type": "code",
   "execution_count": 63,
   "metadata": {},
   "outputs": [],
   "source": [
    "# small1 = small.sort_values([small.columns[0]])\n",
    "# list1 = np.array(small1.index[0:5]).tolist()\n",
    "# small2 = small.sort_values([small.columns[1]])\n",
    "# list2 = np.array(small2.index[0:5]).tolist()\n",
    "#print(list1)\n",
    "#print(small1)\n",
    "#print(small2)\n",
    "# a = []\n",
    "# a.append(list1)\n",
    "# a.append(list2)\n",
    "# print(a)"
   ]
  },
  {
   "cell_type": "code",
   "execution_count": 187,
   "metadata": {},
   "outputs": [],
   "source": [
    "def initial_list(x, cashpool, stocknum, y):\n",
    "    \n",
    "    #### Get the Initial Basket For date X ####\n",
    "    position = small.columns.tolist().index(x) # get the column index of the date x input\n",
    "    small1 = small.sort_values([x]) # sort according to date x\n",
    "    choice = np.array(small1.index[0:stocknum]).tolist() # get the smallest N stocks of the day\n",
    "    #ones = np.ones(stocknum, dtype=int) # determine no of shares to buy for each stock\n",
    "    #a = dict(zip(choice, ones)) \n",
    "    \n",
    "    # get the column name I want to find the close price for each stock on day x\n",
    "    price = [i.split('_')[0]+\"_\"+i.split('_')[1] for i in choice]\n",
    "    \n",
    "    # find the close price for each stock on day x\n",
    "    close = []\n",
    "    for i in range(len(price)):\n",
    "        b = df.loc[x, price[i]]\n",
    "        close.append(b)\n",
    "        invest = cashpool / stocknum\n",
    "        share = [invest / i for i in close]\n",
    "        buy_dict = dict(zip(choice, share)) # update buy_list for INITIAL day x\n",
    "    \n",
    "    \n",
    "    ### Get the buy list for date y ###\n",
    "    position2 = small.columns.tolist().index(y) # get the column index of the date y input\n",
    "    small2 = small.sort_values([y]) # sort according to date y\n",
    "    choice2 = np.array(small2.index[0:stocknum]).tolist() # get the smallest N stocks of the day\n",
    "    print(choice2)\n"
   ]
  },
  {
   "cell_type": "code",
   "execution_count": 188,
   "metadata": {},
   "outputs": [
    {
     "name": "stdout",
     "output_type": "stream",
     "text": [
      "['LYG_Close_Mkt', 'ABEV_Close_Mkt', 'AMRN_Close_Mkt', 'SWN_Close_Mkt', 'CHK_Close_Mkt']\n"
     ]
    }
   ],
   "source": [
    "initial_list('2016-11-21', 100, 5, '2018-11-20')"
   ]
  },
  {
   "cell_type": "code",
   "execution_count": 184,
   "metadata": {},
   "outputs": [],
   "source": [
    "def initial_list(x, cashpool, stocknum,):\n",
    "    position = small.columns.tolist().index(x) # get the column index of the date x input\n",
    "    small1 = small.sort_values([x]) # sort according to date x\n",
    "    choice = np.array(small1.index[0:stocknum]).tolist() # get the smallest N(5) stocks of the day\n",
    "    #ones = np.ones(stocknum, dtype=int) # determine no of shares to buy for each stock\n",
    "    #a = dict(zip(choice, ones)) \n",
    "    \n",
    "    # get the column name I want to find the close price for each stock on day x\n",
    "    price = [i.split('_')[0]+\"_\"+i.split('_')[1] for i in choice]\n",
    "    \n",
    "    # find the close price for each stock on day x\n",
    "    close = []\n",
    "    for i in range(len(price)):\n",
    "        b = df.loc[x, price[i]]\n",
    "        close.append(b)\n",
    "        invest = cashpool / stocknum\n",
    "        share = [invest / i for i in close]\n",
    "        buy_dict = dict(zip(choice, share)) # update buy_list for INITIAL day x\n",
    "     \n",
    "    return (buy_dict)"
   ]
  },
  {
   "cell_type": "code",
   "execution_count": 185,
   "metadata": {},
   "outputs": [
    {
     "data": {
      "text/plain": [
       "{'AMRN_Close_Mkt': 5.763688760806916,\n",
       " 'LYG_Close_Mkt': 6.68896321070234,\n",
       " 'ABEV_Close_Mkt': 3.8610038610038613,\n",
       " 'PCG_Close_Mkt': 0.3380662609871535,\n",
       " 'SIRI_Close_Mkt': 4.3763676148796495}"
      ]
     },
     "execution_count": 185,
     "metadata": {},
     "output_type": "execute_result"
    }
   ],
   "source": [
    "initial_list('2016-11-21',100, 5)"
   ]
  },
  {
   "cell_type": "code",
   "execution_count": 186,
   "metadata": {},
   "outputs": [
    {
     "data": {
      "text/plain": [
       "{'LYG_Close_Mkt': 7.142857142857143,\n",
       " 'ABEV_Close_Mkt': 4.784688995215311,\n",
       " 'AMRN_Close_Mkt': 1.154068090017311,\n",
       " 'SWN_Close_Mkt': 3.9603960396039604,\n",
       " 'CHK_Close_Mkt': 6.25}"
      ]
     },
     "execution_count": 186,
     "metadata": {},
     "output_type": "execute_result"
    }
   ],
   "source": [
    "initial_list('2018-11-20',100, 5)"
   ]
  },
  {
   "cell_type": "code",
   "execution_count": null,
   "metadata": {},
   "outputs": [],
   "source": []
  },
  {
   "cell_type": "code",
   "execution_count": null,
   "metadata": {},
   "outputs": [],
   "source": []
  },
  {
   "cell_type": "code",
   "execution_count": null,
   "metadata": {},
   "outputs": [],
   "source": [
    "# 'portfolio' is same as 'buy' on the first day(buy top 5 stocks whose market values are smallest)\n",
    "portfolio_list = [buy[0]]\n",
    "for i in range(len(buy) - 1):\n",
    "    dictMerged = dict(buy[i], **buy[i+1]) # merge dictionarys\n",
    "    for j in buy[i]:\n",
    "        if j in buy[i+1]: # if stock A exists in the both portfolios, we set it to be 0 in the merged portfolio\n",
    "            dictMerged[j] = 0 # 0 means no actions\n",
    "\n",
    "        else:            # if stock A exists in the first portfolio but not in the second portfolio, we set it to be -1 in the merged portfolio\n",
    "            dictMerged[j] = -1 # -1 means shorting the stock\n",
    "\n",
    "                         # if stock A exists in the second portfolio but not in the first portfolio, we set it to be 1 in the merged portfolio\n",
    "                         # 1 means longing the stock(same as 'buy')\n",
    "\n",
    "    portfolio_list.append(dictMerged)"
   ]
  },
  {
   "cell_type": "code",
   "execution_count": 41,
   "metadata": {},
   "outputs": [],
   "source": [
    "# # sort and choose the smallest N -(5) stock for each day\n",
    "# # Create a large list including buy lists for ALL DAYS\n",
    "# buy = []\n",
    "# for i in range (1, len(small.columns)):\n",
    "#     a = small\n",
    "#     small1 = a.sort_values([a.columns[i]])\n",
    "#     ones = np.ones(5, dtype=int)\n",
    "#     choice = np.array(small1.index[0:5]).tolist()\n",
    "#     c = dict(zip(choice, ones))\n",
    "#     buy.append(c)"
   ]
  },
  {
   "cell_type": "code",
   "execution_count": null,
   "metadata": {},
   "outputs": [],
   "source": []
  },
  {
   "cell_type": "code",
   "execution_count": null,
   "metadata": {},
   "outputs": [],
   "source": []
  },
  {
   "cell_type": "code",
   "execution_count": 85,
   "metadata": {},
   "outputs": [],
   "source": [
    "def buy_list(x):\n",
    "    position = small.columns.tolist().index(x)\n",
    "    \n",
    "    buy = []\n",
    "    for i in range (len(small.columns)):\n",
    "        small1 = small.sort_values([small.columns[i]]) #sort according to date i\n",
    "        choice = np.array(small1.index[0:5]).tolist()  # get the smallest N(5) stocks of the day    \n",
    "        \n",
    "        \n",
    "        \n",
    "        \n",
    "        \n",
    "        ones = np.ones(5, dtype=int) # determine no of shares to buy for each stock\n",
    "        c = dict(zip(choice, ones)) #combine shares with stocks to a dictionary\n",
    "        buy.append(c)\n",
    "    \n",
    "    return buy[position]"
   ]
  },
  {
   "cell_type": "code",
   "execution_count": null,
   "metadata": {},
   "outputs": [],
   "source": []
  },
  {
   "cell_type": "code",
   "execution_count": 57,
   "metadata": {},
   "outputs": [],
   "source": [
    "# create portfolio_list for calculating returns\n",
    "def portfolio_of_date(x):\n",
    "    position = small.columns.tolist().index(x)\n",
    "    \n",
    "    buy = []\n",
    "    for i in range (len(small.columns)):\n",
    "        small1 = small.sort_values([a.columns[i]])\n",
    "        ones = np.ones(5, dtype=int)\n",
    "        choice = np.array(small1.index[0:5]).tolist()\n",
    "        c = dict(zip(choice, ones))\n",
    "        buy.append(c)\n",
    "    \n",
    "    # 'portfolio' is same as 'buy' on the first day(buy top 5 stocks whose market values are smallest)\n",
    "    portfolio_list = [buy[0]]\n",
    "    for i in range(len(buy) - 1):\n",
    "        dictMerged = dict(buy[i], **buy[i+1]) # merge dictionarys\n",
    "        for j in buy[i]:\n",
    "            if j in buy[i+1]: # if stock A exists in the both portfolios, we set it to be 0 in the merged portfolio\n",
    "                dictMerged[j] = 0 # 0 means no actions\n",
    "                \n",
    "            else:            # if stock A exists in the first portfolio but not in the second portfolio, we set it to be -1 in the merged portfolio\n",
    "                dictMerged[j] = -1 # -1 means shorting the stock\n",
    "                \n",
    "                             # if stock A exists in the second portfolio but not in the first portfolio, we set it to be 1 in the merged portfolio\n",
    "                             # 1 means longing the stock(same as 'buy')\n",
    "                             \n",
    "        portfolio_list.append(dictMerged)\n",
    "    return portfolio_list[position] # getting portfolio_list during the trading days"
   ]
  },
  {
   "cell_type": "code",
   "execution_count": 64,
   "metadata": {},
   "outputs": [],
   "source": [
    "a = portfolio_of_date('2016-11-28')"
   ]
  },
  {
   "cell_type": "code",
   "execution_count": 36,
   "metadata": {},
   "outputs": [
    {
     "ename": "IndentationError",
     "evalue": "unexpected indent (<ipython-input-36-3fa9f1e15b60>, line 2)",
     "output_type": "error",
     "traceback": [
      "\u001b[0;36m  File \u001b[0;32m\"<ipython-input-36-3fa9f1e15b60>\"\u001b[0;36m, line \u001b[0;32m2\u001b[0m\n\u001b[0;31m    position = small.columns.tolist().index(x)\u001b[0m\n\u001b[0m    ^\u001b[0m\n\u001b[0;31mIndentationError\u001b[0m\u001b[0;31m:\u001b[0m unexpected indent\n"
     ]
    }
   ],
   "source": [
    "\n",
    "position = small.columns.tolist().index(x)\n",
    "\n",
    "buy = []\n",
    "for i in range (1, len(small.columns)):\n",
    "    small1 = small.sort_values([a.columns[i]])\n",
    "    ones = np.ones(5, dtype=int)\n",
    "    choice = np.array(small1.index[0:5]).tolist()\n",
    "    c = dict(zip(choice, ones))\n",
    "    buy.append(c)\n",
    "\n",
    "# 'portfolio' is same as 'buy' on the first day(buy top 5 stocks whose market values are smallest)\n",
    "portfolio_list = [buy[0]]\n",
    "for i in range(len(buy) - 1):\n",
    "    dictMerged = dict(buy[i], **buy[i+1]) # merge dictionarys\n",
    "    for j in buy[i]:\n",
    "        if j in buy[i+1]: # if stock A exists in the both portfolios, we set it to be 0 in the merged portfolio\n",
    "            dictMerged[j] = 0 # 0 means no actions\n",
    "\n",
    "        else:            # if stock A exists in the first portfolio but not in the second portfolio, we set it to be -1 in the merged portfolio\n",
    "            dictMerged[j] = -1 # -1 means shorting the stock\n",
    "\n",
    "                         # if stock A exists in the second portfolio but not in the first portfolio, we set it to be 1 in the merged portfolio\n",
    "                         # 1 means longing the stock(same as 'buy')\n",
    "\n",
    "    portfolio_list.append(dictMerged)\n",
    "portfolio_list[position]"
   ]
  },
  {
   "cell_type": "code",
   "execution_count": null,
   "metadata": {},
   "outputs": [],
   "source": []
  },
  {
   "cell_type": "code",
   "execution_count": null,
   "metadata": {},
   "outputs": [],
   "source": []
  },
  {
   "cell_type": "code",
   "execution_count": 146,
   "metadata": {},
   "outputs": [
    {
     "name": "stdout",
     "output_type": "stream",
     "text": [
      "['AMRN_Close', 'LYG_Close', 'ABEV_Close', 'PCG_Close', 'SIRI_Close']\n"
     ]
    },
    {
     "data": {
      "text/plain": [
       "[3.34, 2.87, 5.11, 60.740002, 4.54]"
      ]
     },
     "execution_count": 146,
     "metadata": {},
     "output_type": "execute_result"
    }
   ],
   "source": [
    "a = {'AMRN_Close_Mkt': 1,\n",
    " 'LYG_Close_Mkt': 1,\n",
    " 'ABEV_Close_Mkt': 1,\n",
    " 'PCG_Close_Mkt': 1,\n",
    " 'SIRI_Close_Mkt': 1}\n",
    "\n",
    "pricename = [x.split('_')[0]+\"_\"+x.split('_')[1] for x in a.keys()]\n",
    "print(price)\n",
    "\n",
    "close = []\n",
    "for i in range(len(price)):\n",
    "    b = df.loc['2016-11-28', price[i]]\n",
    "    close.append(b)\n",
    "    share = [invest / stocknum / i for i in close]\n",
    "close\n"
   ]
  },
  {
   "cell_type": "code",
   "execution_count": 1,
   "metadata": {},
   "outputs": [],
   "source": [
    "import pandas as pd\n",
    "import matplotlib.pyplot as plt\n",
    "pd.set_option('expand_frame_repr', False)\n",
    "\n",
    "#open, high, low, close, volumn, adjVolumn, date, MarketCap\n",
    "\n",
    "#import dataset from Yahoo_finance 导入数据\n",
    "stock_data = pd.read_csv('',#usecols = ['price','date',] encoding = 'gbk'--read chinese)\n",
    "stock_data.columns = [i.encode('utf8') for i in stock_data.columns]\n",
    "stock_data['交易日期'] = pd.to_datetime(stock_data['交易日期'])\n",
    "\n",
    "# 1. 设定好要交易的股票数量stocksnum\n",
    "stocknum = 30\n",
    "\n",
    "# 2. 每天找出市值排名最小的前stocksnum只股票作为要买入的股票。\n",
    "#Sort the stocks by market cap and date\n",
    "stock_data.sort_values(by=['date','marketcap', #inplace = True])\n",
    "\n",
    "holding_first=holding_first.sort(columns='negMarketValue')[0:n]  \n",
    "\n",
    "\n",
    "#开始的时间太早？\n",
    "stock_data = stock_data[stock_data['date'] > pd.to_datetime('2016-11-01')]\n",
    "\n",
    "#删去月末停牌？最后一天不交易，不能买入\n",
    "stock_data = stock_data[stock_data['是否交易'] != 0]\n",
    "\n",
    "#该月交易时间过短，去除?\n",
    "stock_data = stock_data[stock_data['交易天数'] >= 10]\n",
    "\n",
    "#计算所以股票在下个月的平均涨幅\n",
    "output = pd.DataFrame()\n",
    "output['所有股票下个月的涨幅'] = stock_data.groupby('交易日期')['下月涨幅'].mean()\n",
    "\n",
    "#计算每月市值排名\n",
    "stock_data['市值_排名'] = stock_data.groupby('交易日期')['总市值'].rank()\n",
    "\n",
    "#Pick the top 30 stocks -- lowest market cap\n",
    "stock_data = stock_data['市值_排名'] <= 30\n",
    "\n",
    "\n",
    "\n",
    "#create a list that contains the top 30 stocks.\n",
    "buylist = []\n",
    "    for i in range(30):\n",
    "              \n",
    "\n",
    "\n",
    "\n",
    "# 3. 若已持有的股票的市值已经不够小而不在要买入的股票中，则卖出这些股票。\n",
    "\n",
    "# 4. 买入要买入的股票，买入金额为当前可用资金的stocksnum分之一。\n"
   ]
  },
  {
   "cell_type": "code",
   "execution_count": null,
   "metadata": {},
   "outputs": [],
   "source": []
  }
 ],
 "metadata": {
  "kernelspec": {
   "display_name": "Python 3",
   "language": "python",
   "name": "python3"
  },
  "language_info": {
   "codemirror_mode": {
    "name": "ipython",
    "version": 3
   },
   "file_extension": ".py",
   "mimetype": "text/x-python",
   "name": "python",
   "nbconvert_exporter": "python",
   "pygments_lexer": "ipython3",
   "version": "3.6.5"
  }
 },
 "nbformat": 4,
 "nbformat_minor": 2
}
