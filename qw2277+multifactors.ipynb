{
 "cells": [
  {
   "cell_type": "code",
   "execution_count": 1,
   "metadata": {
    "collapsed": true
   },
   "outputs": [],
   "source": [
    "from __future__ import print_function, absolute_import, unicode_literals"
   ]
  },
  {
   "cell_type": "code",
   "execution_count": 3,
   "metadata": {},
   "outputs": [
    {
     "ename": "ModuleNotFoundError",
     "evalue": "No module named 'gm'",
     "output_type": "error",
     "traceback": [
      "\u001b[0;31m---------------------------------------------------------------------------\u001b[0m",
      "\u001b[0;31mModuleNotFoundError\u001b[0m                       Traceback (most recent call last)",
      "\u001b[0;32m<ipython-input-3-401e8cf0775f>\u001b[0m in \u001b[0;36m<module>\u001b[0;34m()\u001b[0m\n\u001b[1;32m      1\u001b[0m \u001b[0;32mimport\u001b[0m \u001b[0mnumpy\u001b[0m \u001b[0;32mas\u001b[0m \u001b[0mnp\u001b[0m\u001b[0;34m\u001b[0m\u001b[0m\n\u001b[0;32m----> 2\u001b[0;31m \u001b[0;32mfrom\u001b[0m \u001b[0mgm\u001b[0m\u001b[0;34m.\u001b[0m\u001b[0mapi\u001b[0m \u001b[0;32mimport\u001b[0m \u001b[0;34m*\u001b[0m\u001b[0;34m\u001b[0m\u001b[0m\n\u001b[0m\u001b[1;32m      3\u001b[0m \u001b[0;32mfrom\u001b[0m \u001b[0mpandas\u001b[0m \u001b[0;32mimport\u001b[0m \u001b[0mDataFrame\u001b[0m\u001b[0;34m\u001b[0m\u001b[0m\n",
      "\u001b[0;31mModuleNotFoundError\u001b[0m: No module named 'gm'"
     ]
    }
   ],
   "source": [
    "import numpy as np\n",
    "from gm.api import *\n",
    "from pandas import DataFrame"
   ]
  },
  {
   "cell_type": "code",
   "execution_count": null,
   "metadata": {
    "collapsed": true
   },
   "outputs": [],
   "source": [
    "def init(context):\n",
    "    schedule(schedule_func=algo, date_rule='1m', time_rule='09:40:00')\n",
    "    print(order_target_percent(symbol='SHSE.600000', percent=0.5, order_type=OrderType_Market,\n",
    "                         position_side=PositionSide_Long))\n",
    "    \n",
    "    context.date = 20\n",
    "    context.ratio = 0.8\n",
    "    context.BM_BIG = 3.0\n",
    "    context.BM_MID = 2.0\n",
    "    context.BM_SMA = 1.0\n",
    "    context.MV_BIG = 2.0\n",
    "    context.MV_SMA = 1.0\n",
    "def market_value_weighted(stocks, MV, BM):\n",
    "    select = stocks[(stocks.NEGOTIABLEMV == MV) & (stocks.BM == BM)]\n",
    "    market_value = select['mv'].values\n",
    "    mv_total = np.sum(market_value)\n",
    "    mv_weighted = [mv / mv_total for mv in market_value]\n",
    "    stock_return = select['return'].values\n",
    "    return_total = []\n",
    "    for i in range(len(mv_weighted)):\n",
    "        return_total.append(mv_weighted[i] * stock_return[i])\n",
    "    return_total = np.sum(return_total)\n",
    "    return return_total\n",
    "def algo(context):\n",
    "    last_day = get_previous_trading_date(exchange='SHSE', date=context.now)\n",
    "    context.stock300 = get_history_constituents(index='SHSE.000300', start_date=last_day,\n",
    "                                                end_date=last_day)[0]['constituents'].keys()\n",
    "    not_suspended = get_history_instruments(symbols=context.stock300, start_date=last_day, end_date=last_day)\n",
    "    not_suspended = [item['symbol'] for item in not_suspended if not item['is_suspended']]\n",
    "    fin = get_fundamentals(table='tq_sk_finindic', symbols=not_suspended, start_date=last_day, end_date=last_day,\n",
    "                           fields='PB,NEGOTIABLEMV', df=True)"
   ]
  },
  {
   "cell_type": "code",
   "execution_count": null,
   "metadata": {
    "collapsed": true
   },
   "outputs": [],
   "source": []
  }
 ],
 "metadata": {
  "kernelspec": {
   "display_name": "Python 3",
   "language": "python",
   "name": "python3"
  },
  "language_info": {
   "codemirror_mode": {
    "name": "ipython",
    "version": 3
   },
   "file_extension": ".py",
   "mimetype": "text/x-python",
   "name": "python",
   "nbconvert_exporter": "python",
   "pygments_lexer": "ipython3",
   "version": "3.6.3"
  }
 },
 "nbformat": 4,
 "nbformat_minor": 2
}
