{
 "cells": [
  {
   "cell_type": "code",
   "execution_count": 22,
   "metadata": {},
   "outputs": [],
   "source": [
    "stock = ['GE', 'AMD', 'T', 'BAC', 'MXIM', 'INTC', 'PFE', 'CSCO', 'AAPL', 'LW', \n",
    "         'NYCB', 'CMCSA', 'F', 'BABA', 'MSFT', 'FANG', 'SIRI', 'VZ', 'CHK', 'ECA', \n",
    "         'MU', 'SBUX', 'TWTR', 'FB', 'KO', 'NLY', 'VALE', 'SRCL', 'ORCL', 'ABEV', \n",
    "         'MRK', 'HPE', 'KMI', 'RF', 'NRG', 'EBAY', 'HPQ', 'ESV', 'WFC', 'SWN', 'JPM', \n",
    "         'PEB', 'NFX', 'NVDA', 'QCOM', 'GM', 'TJX', 'FCX', 'DIS', 'PAGS', 'PBR', 'PG', \n",
    "         'SLB', 'SFM', 'RIG', 'AGNC', 'CVS', 'COL', 'S', 'IQ', 'FOXA', 'ABX', 'ZNGA', \n",
    "         'ATVI', 'BHGE', 'KGC', 'NWL', 'C', 'CTL', 'XOM', 'BMY', 'MO', 'SCHW', 'DWDP', \n",
    "         'LHO', 'EQH', 'AMAT', 'GGB', 'MRO', 'MDLZ', 'OAS', 'BPR', 'HBAN', 'JNJ', 'SQ', \n",
    "         'NOK', 'ABBV', 'AET', 'NFLX', 'ATUS', 'ITUB', 'VICI', 'CX', 'EEP', 'LYG', 'VER', \n",
    "         'V', 'MS', 'PYPL', 'KEY', 'TOL', 'PBR-A', 'NIO', 'HAL', 'DAL', 'ET', 'MRVL', \n",
    "         'WMT', 'JD', 'INFY', 'SNAP', 'WMB', 'USB', 'DVN', 'VIAB', 'P', 'AIG', 'KR', \n",
    "         'AAL', 'FDC', 'BBD', 'BSX', 'DBX', 'PCG', 'CELG', 'UTX', 'WDAY', 'MAR', 'I', \n",
    "         'WDC', 'CRM', 'COTY', 'PPL', 'LLY', 'HD', 'TSM', 'TXN', 'GILD', 'SRC', 'CZR', \n",
    "         'AABA', 'CAT', 'SPLK', 'HRL', 'WBA', 'VOD', 'HST', 'PEP', 'ABT', 'NKE', 'MA', \n",
    "         'FOX', 'WPX', 'MGM', 'CAG', 'ON', 'IPG', 'GG', 'NEM', 'BRX', 'AXS', 'CLF', 'ROST', \n",
    "         'IBM', 'TEVA', 'COP', 'AES', 'SO', 'TGT', 'COG', 'ENB', 'M', 'KKR', 'FITB', 'PTC', \n",
    "         'RRC', 'LOW', 'WU', 'EXC', 'FLEX', 'UAA', 'CSX', 'GLW', 'EPD', 'VIPS', 'CVX', 'DB', \n",
    "         'X', 'DLTR', 'MCD', 'PBCT', 'MDT', 'AVT', 'ACB', 'JCI', 'PE', 'COLD', 'KHC', 'FE', \n",
    "         'AMRN', 'MAT', 'PTEN', 'GRUB', 'PHM', 'VST', 'MPC', 'GS', 'UNP', 'ADM', 'DVMT', \n",
    "         'QGEN', 'UNH', 'MET', 'ARRS', 'GIS', 'CNP', 'SYY', 'DXCM', 'HCM', 'HCP', 'TPR', 'OXY', \n",
    "         'JBLU', 'SYMC', 'BEN', 'COMM', 'AR', 'SYF', 'ACN', 'BP', 'BILI', 'WY', 'AMZN', 'CCL', \n",
    "         'APC', 'VLO', 'PM', 'TSLA', 'MBT', 'LBTYK', 'GPS', 'CFG', 'CVE', 'BURL', 'PANW', 'AFL', \n",
    "         'DISCA', 'BK', 'D', 'EA', 'APA', 'HON', 'BA', 'AA', 'HBI', 'EOG', 'DISCK', 'IVZ', 'ADBE', \n",
    "         'MPW', 'BRK-B', 'PGR', 'DHI']\n"
   ]
  },
  {
   "cell_type": "code",
   "execution_count": 23,
   "metadata": {},
   "outputs": [
    {
     "data": {
      "text/plain": [
       "263"
      ]
     },
     "execution_count": 23,
     "metadata": {},
     "output_type": "execute_result"
    }
   ],
   "source": [
    "len(stock)"
   ]
  },
  {
   "cell_type": "code",
   "execution_count": null,
   "metadata": {},
   "outputs": [],
   "source": []
  }
 ],
 "metadata": {
  "kernelspec": {
   "display_name": "Python 3",
   "language": "python",
   "name": "python3"
  },
  "language_info": {
   "codemirror_mode": {
    "name": "ipython",
    "version": 3
   },
   "file_extension": ".py",
   "mimetype": "text/x-python",
   "name": "python",
   "nbconvert_exporter": "python",
   "pygments_lexer": "ipython3",
   "version": "3.6.5"
  }
 },
 "nbformat": 4,
 "nbformat_minor": 2
}
