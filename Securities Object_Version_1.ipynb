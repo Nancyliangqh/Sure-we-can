{
 "cells": [
  {
   "cell_type": "code",
   "execution_count": 41,
   "metadata": {},
   "outputs": [],
   "source": [
    "import numpy as np\n",
    "import pandas as pd"
   ]
  },
  {
   "cell_type": "code",
   "execution_count": 73,
   "metadata": {},
   "outputs": [],
   "source": [
    "\"\"\"\n",
    "A class that performs as one kind of stocks\n",
    "\"\"\"\n",
    "\n",
    "class Securities:\n",
    "#     class level attributes\n",
    "#     INITCASH = 1000000\n",
    "    Tax = 0.25\n",
    "    Commission = 5\n",
    "    Loan = 0.03\n",
    "    \n",
    "#     Initialized with daily closed price\n",
    "#     price_shares is a list containing 2 elements(price and shares)\n",
    "#     setting in this way aiming to munipulate the objects by numpy arrays\n",
    "    def __init__(self, name, price, shares):\n",
    "        self.price = price\n",
    "        self.position = price * shares\n",
    "        self.name = name\n",
    "        \n",
    "    @property\n",
    "    def price(self):\n",
    "        return self._price\n",
    "        \n",
    "    @price.setter\n",
    "    def price(self,price):\n",
    "        if price < 0:\n",
    "            raise ValueError(\"Price of securities cannot be negative\")\n",
    "        self._price = price\n",
    "        \n",
    "    @property\n",
    "    def position(self):\n",
    "        return self._position\n",
    "    \n",
    "    @position.setter\n",
    "    def position(self, position):\n",
    "        if position < 100:\n",
    "            raise ValueError('You shall buy at least 100 shares everytime!')\n",
    "        self._position = position\n",
    "        \n",
    "# -----------------------------------------------------------------------\n",
    "# setting methods\n",
    "        \n",
    "    def buyin(self, shares): # shares is the amount of shares to purchase\n",
    "        self.position = self.position + self.price * shares\n",
    "       \n",
    "    def sellout(self, shares):\n",
    "        curr_position = self.position - self.price * shares\n",
    "        if curr_position < 0:\n",
    "            raise ValueError('You can not sell shares more than you possess!')\n",
    "        else:\n",
    "            self.position = curr_position"
   ]
  },
  {
   "cell_type": "code",
   "execution_count": 78,
   "metadata": {},
   "outputs": [],
   "source": [
    "\"\"\"\n",
    "A class that performs as a securities account\n",
    "\"\"\"\n",
    "class Account:\n",
    "#     class level attributes\n",
    "    INITCASH = 1000000\n",
    "    \n",
    "#     stocks are one or several Securities objects\n",
    "    def __init__(self,*stocks):\n",
    "        self.port = [*stocks] # portfoio of this account\n",
    "        self.name = [y.name for y in [x for x in [*stocks]]] # list of stocks' name in portfolio\n",
    "        marval = sum([y.position for y in [x for x in [*stocks]]])\n",
    "        if marval > self.INITCASH:\n",
    "            raise ValueError('Cannot initiate account with total market value more than initial cash')\n",
    "        self.marval = marval # total market value\n",
    "    \n",
    "# -------------------------------------------------------------------------\n",
    "# Start setting methods"
   ]
  },
  {
   "cell_type": "code",
   "execution_count": 76,
   "metadata": {},
   "outputs": [
    {
     "data": {
      "text/plain": [
       "['APPL', 'GOOG']"
      ]
     },
     "execution_count": 76,
     "metadata": {},
     "output_type": "execute_result"
    }
   ],
   "source": [
    "APPL = Securities('APPL',1,200)\n",
    "GOOG = Securities('GOOG',2,100)\n",
    "acount = Account(APPL,GOOG)\n",
    "acount.port"
   ]
  },
  {
   "cell_type": "code",
   "execution_count": 60,
   "metadata": {},
   "outputs": [
    {
     "data": {
      "text/plain": [
       "array([ 990. , 1015. ,  464.1])"
      ]
     },
     "execution_count": 60,
     "metadata": {},
     "output_type": "execute_result"
    }
   ],
   "source": [
    "bx.position"
   ]
  },
  {
   "cell_type": "code",
   "execution_count": 67,
   "metadata": {},
   "outputs": [
    {
     "ename": "ValueError",
     "evalue": "You shall buy at least 100 shares everytime!",
     "output_type": "error",
     "traceback": [
      "\u001b[0;31m---------------------------------------------------------------------------\u001b[0m",
      "\u001b[0;31mValueError\u001b[0m                                Traceback (most recent call last)",
      "\u001b[0;32m<ipython-input-67-1176f78b5ee3>\u001b[0m in \u001b[0;36m<module>\u001b[0;34m()\u001b[0m\n\u001b[0;32m----> 1\u001b[0;31m \u001b[0mSecurities\u001b[0m\u001b[0;34m(\u001b[0m\u001b[0;36m1\u001b[0m\u001b[0;34m,\u001b[0m\u001b[0;36m20\u001b[0m\u001b[0;34m)\u001b[0m\u001b[0;34m\u001b[0m\u001b[0m\n\u001b[0m",
      "\u001b[0;32m<ipython-input-66-a5359ab5158b>\u001b[0m in \u001b[0;36m__init__\u001b[0;34m(self, price, shares)\u001b[0m\n\u001b[1;32m     19\u001b[0m \u001b[0;31m#             raise ValueError('You shall buy at least 100 shares everytime!')\u001b[0m\u001b[0;34m\u001b[0m\u001b[0;34m\u001b[0m\u001b[0m\n\u001b[1;32m     20\u001b[0m         \u001b[0mself\u001b[0m\u001b[0;34m.\u001b[0m\u001b[0mprice\u001b[0m \u001b[0;34m=\u001b[0m \u001b[0mprice\u001b[0m\u001b[0;34m\u001b[0m\u001b[0m\n\u001b[0;32m---> 21\u001b[0;31m         \u001b[0mself\u001b[0m\u001b[0;34m.\u001b[0m\u001b[0mposition\u001b[0m \u001b[0;34m=\u001b[0m \u001b[0mprice\u001b[0m \u001b[0;34m*\u001b[0m \u001b[0mshares\u001b[0m\u001b[0;34m\u001b[0m\u001b[0m\n\u001b[0m\u001b[1;32m     22\u001b[0m \u001b[0;34m\u001b[0m\u001b[0m\n\u001b[1;32m     23\u001b[0m     \u001b[0;34m@\u001b[0m\u001b[0mproperty\u001b[0m\u001b[0;34m\u001b[0m\u001b[0m\n",
      "\u001b[0;32m<ipython-input-66-a5359ab5158b>\u001b[0m in \u001b[0;36mposition\u001b[0;34m(self, position)\u001b[0m\n\u001b[1;32m     38\u001b[0m     \u001b[0;32mdef\u001b[0m \u001b[0mposition\u001b[0m\u001b[0;34m(\u001b[0m\u001b[0mself\u001b[0m\u001b[0;34m,\u001b[0m \u001b[0mposition\u001b[0m\u001b[0;34m)\u001b[0m\u001b[0;34m:\u001b[0m\u001b[0;34m\u001b[0m\u001b[0m\n\u001b[1;32m     39\u001b[0m         \u001b[0;32mif\u001b[0m \u001b[0mposition\u001b[0m \u001b[0;34m<\u001b[0m \u001b[0;36m100\u001b[0m\u001b[0;34m:\u001b[0m\u001b[0;34m\u001b[0m\u001b[0m\n\u001b[0;32m---> 40\u001b[0;31m             \u001b[0;32mraise\u001b[0m \u001b[0mValueError\u001b[0m\u001b[0;34m(\u001b[0m\u001b[0;34m'You shall buy at least 100 shares everytime!'\u001b[0m\u001b[0;34m)\u001b[0m\u001b[0;34m\u001b[0m\u001b[0m\n\u001b[0m\u001b[1;32m     41\u001b[0m         \u001b[0mself\u001b[0m\u001b[0;34m.\u001b[0m\u001b[0m_position\u001b[0m \u001b[0;34m=\u001b[0m \u001b[0mposition\u001b[0m\u001b[0;34m\u001b[0m\u001b[0m\n\u001b[1;32m     42\u001b[0m \u001b[0;34m\u001b[0m\u001b[0m\n",
      "\u001b[0;31mValueError\u001b[0m: You shall buy at least 100 shares everytime!"
     ]
    }
   ],
   "source": [
    "Securities(1,20)"
   ]
  },
  {
   "cell_type": "code",
   "execution_count": null,
   "metadata": {},
   "outputs": [],
   "source": []
  }
 ],
 "metadata": {
  "kernelspec": {
   "display_name": "Python 3",
   "language": "python",
   "name": "python3"
  },
  "language_info": {
   "codemirror_mode": {
    "name": "ipython",
    "version": 3
   },
   "file_extension": ".py",
   "mimetype": "text/x-python",
   "name": "python",
   "nbconvert_exporter": "python",
   "pygments_lexer": "ipython3",
   "version": "3.6.5"
  }
 },
 "nbformat": 4,
 "nbformat_minor": 2
}
