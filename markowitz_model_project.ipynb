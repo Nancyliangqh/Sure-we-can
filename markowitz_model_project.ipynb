{
 "cells": [
  {
   "cell_type": "markdown",
   "metadata": {},
   "source": [
    "The strategy explanation: Rank the stocks in pool according to their rate of return. Buy the top 10 stocks daily and sell the stock in our originial portfolio that do not belong to the top 10 list.  "
   ]
  },
  {
   "cell_type": "code",
   "execution_count": 12,
   "metadata": {},
   "outputs": [
    {
     "ename": "ModuleNotFoundError",
     "evalue": "No module named 'spicy'",
     "output_type": "error",
     "traceback": [
      "\u001b[0;31m---------------------------------------------------------------------------\u001b[0m",
      "\u001b[0;31mModuleNotFoundError\u001b[0m                       Traceback (most recent call last)",
      "\u001b[0;32m<ipython-input-12-38f06641bc17>\u001b[0m in \u001b[0;36m<module>\u001b[0;34m()\u001b[0m\n\u001b[1;32m      4\u001b[0m \u001b[0;32mimport\u001b[0m \u001b[0mscipy\u001b[0m\u001b[0;34m.\u001b[0m\u001b[0moptimize\u001b[0m \u001b[0;32mas\u001b[0m \u001b[0msco\u001b[0m\u001b[0;34m\u001b[0m\u001b[0m\n\u001b[1;32m      5\u001b[0m \u001b[0;32mimport\u001b[0m \u001b[0mscipy\u001b[0m\u001b[0;34m.\u001b[0m\u001b[0minterpolate\u001b[0m \u001b[0;32mas\u001b[0m \u001b[0msci\u001b[0m\u001b[0;34m\u001b[0m\u001b[0m\n\u001b[0;32m----> 6\u001b[0;31m \u001b[0;32mfrom\u001b[0m \u001b[0mspicy\u001b[0m \u001b[0;32mimport\u001b[0m \u001b[0mstats\u001b[0m\u001b[0;34m\u001b[0m\u001b[0m\n\u001b[0m",
      "\u001b[0;31mModuleNotFoundError\u001b[0m: No module named 'spicy'"
     ]
    }
   ],
   "source": [
    "import numpy as np\n",
    "import pandas as pd\n",
    "import matplotlib.pyplot as plt\n",
    "import scipy.optimize as sco\n",
    "import scipy.interpolate as sci\n",
    "from spicy import stats\n"
   ]
  },
  {
   "cell_type": "code",
   "execution_count": 13,
   "metadata": {},
   "outputs": [
    {
     "name": "stdout",
     "output_type": "stream",
     "text": [
      "Collecting spicy\n",
      "  Downloading https://files.pythonhosted.org/packages/10/f7/58fd43678e56f6eed4b4a186dba367be3b56f95bb5a15741a0bf9861dde4/spicy-0.16.0-py2.py3-none-any.whl\n",
      "Requirement already satisfied: scipy in ./anaconda3/lib/python3.6/site-packages (from spicy) (1.1.0)\n",
      "Requirement already satisfied: numpy>=1.8.2 in ./anaconda3/lib/python3.6/site-packages (from scipy->spicy) (1.15.4)\n",
      "Installing collected packages: spicy\n",
      "Successfully installed spicy-0.16.0\n"
     ]
    }
   ],
   "source": [
    "!pip install spicy"
   ]
  },
  {
   "cell_type": "code",
   "execution_count": 4,
   "metadata": {},
   "outputs": [
    {
     "name": "stdout",
     "output_type": "stream",
     "text": [
      "Requirement already up-to-date: fix_yahoo_finance in ./anaconda3/lib/python3.6/site-packages (0.0.22)\n",
      "Requirement already satisfied, skipping upgrade: requests in ./anaconda3/lib/python3.6/site-packages (from fix_yahoo_finance) (2.20.0)\n",
      "Requirement already satisfied, skipping upgrade: numpy in ./anaconda3/lib/python3.6/site-packages (from fix_yahoo_finance) (1.15.4)\n",
      "Requirement already satisfied, skipping upgrade: pandas in ./anaconda3/lib/python3.6/site-packages (from fix_yahoo_finance) (0.23.4)\n",
      "Requirement already satisfied, skipping upgrade: multitasking in ./anaconda3/lib/python3.6/site-packages (from fix_yahoo_finance) (0.0.7)\n",
      "Requirement already satisfied, skipping upgrade: urllib3<1.25,>=1.21.1 in ./anaconda3/lib/python3.6/site-packages (from requests->fix_yahoo_finance) (1.24)\n",
      "Requirement already satisfied, skipping upgrade: chardet<3.1.0,>=3.0.2 in ./anaconda3/lib/python3.6/site-packages (from requests->fix_yahoo_finance) (3.0.4)\n",
      "Requirement already satisfied, skipping upgrade: idna<2.8,>=2.5 in ./anaconda3/lib/python3.6/site-packages (from requests->fix_yahoo_finance) (2.7)\n",
      "Requirement already satisfied, skipping upgrade: certifi>=2017.4.17 in ./anaconda3/lib/python3.6/site-packages (from requests->fix_yahoo_finance) (2018.10.15)\n",
      "Requirement already satisfied, skipping upgrade: python-dateutil>=2.5.0 in ./anaconda3/lib/python3.6/site-packages (from pandas->fix_yahoo_finance) (2.7.3)\n",
      "Requirement already satisfied, skipping upgrade: pytz>=2011k in ./anaconda3/lib/python3.6/site-packages (from pandas->fix_yahoo_finance) (2018.5)\n",
      "Requirement already satisfied, skipping upgrade: six>=1.5 in ./anaconda3/lib/python3.6/site-packages (from python-dateutil>=2.5.0->pandas->fix_yahoo_finance) (1.11.0)\n"
     ]
    }
   ],
   "source": [
    "!pip install fix_yahoo_finance --upgrade"
   ]
  },
  {
   "cell_type": "code",
   "execution_count": 7,
   "metadata": {},
   "outputs": [
    {
     "ename": "NameError",
     "evalue": "name 'data' is not defined",
     "output_type": "error",
     "traceback": [
      "\u001b[0;31m---------------------------------------------------------------------------\u001b[0m",
      "\u001b[0;31mNameError\u001b[0m                                 Traceback (most recent call last)",
      "\u001b[0;32m<ipython-input-7-4c4b3d38a1c8>\u001b[0m in \u001b[0;36m<module>\u001b[0;34m()\u001b[0m\n\u001b[1;32m      1\u001b[0m \u001b[0mdf\u001b[0m \u001b[0;34m=\u001b[0m \u001b[0mpd\u001b[0m\u001b[0;34m.\u001b[0m\u001b[0mDataFrame\u001b[0m\u001b[0;34m(\u001b[0m\u001b[0;34m)\u001b[0m\u001b[0;34m\u001b[0m\u001b[0m\n\u001b[0;32m----> 2\u001b[0;31m \u001b[0mdata\u001b[0m \u001b[0;34m=\u001b[0m \u001b[0mdata\u001b[0m\u001b[0;34m.\u001b[0m\u001b[0mdropna\u001b[0m\u001b[0;34m(\u001b[0m\u001b[0;34m)\u001b[0m\u001b[0;34m\u001b[0m\u001b[0m\n\u001b[0m\u001b[1;32m      3\u001b[0m \u001b[0mprint\u001b[0m\u001b[0;34m(\u001b[0m\u001b[0mdata\u001b[0m\u001b[0;34m.\u001b[0m\u001b[0minfo\u001b[0m\u001b[0;34m(\u001b[0m\u001b[0;34m)\u001b[0m\u001b[0;34m)\u001b[0m\u001b[0;34m\u001b[0m\u001b[0m\n",
      "\u001b[0;31mNameError\u001b[0m: name 'data' is not defined"
     ]
    }
   ],
   "source": [
    "df = pd.DataFrame()\n",
    "data = data.dropna()\n",
    "print(data.info())"
   ]
  },
  {
   "cell_type": "code",
   "execution_count": 6,
   "metadata": {},
   "outputs": [
    {
     "ename": "NameError",
     "evalue": "name 'data' is not defined",
     "output_type": "error",
     "traceback": [
      "\u001b[0;31m---------------------------------------------------------------------------\u001b[0m",
      "\u001b[0;31mNameError\u001b[0m                                 Traceback (most recent call last)",
      "\u001b[0;32m<ipython-input-6-048104b1ea6a>\u001b[0m in \u001b[0;36m<module>\u001b[0;34m()\u001b[0m\n\u001b[1;32m      1\u001b[0m \u001b[0;31m# Initial analysis\u001b[0m\u001b[0;34m\u001b[0m\u001b[0;34m\u001b[0m\u001b[0m\n\u001b[0;32m----> 2\u001b[0;31m \u001b[0mlog_returns\u001b[0m \u001b[0;34m=\u001b[0m \u001b[0mnp\u001b[0m\u001b[0;34m.\u001b[0m\u001b[0mlog\u001b[0m\u001b[0;34m(\u001b[0m\u001b[0mdata\u001b[0m\u001b[0;34m/\u001b[0m\u001b[0mdata\u001b[0m\u001b[0;34m.\u001b[0m\u001b[0mshift\u001b[0m\u001b[0;34m(\u001b[0m\u001b[0;36m1\u001b[0m\u001b[0;34m)\u001b[0m\u001b[0;34m)\u001b[0m\u001b[0;34m\u001b[0m\u001b[0m\n\u001b[0m\u001b[1;32m      3\u001b[0m \u001b[0;31m# To optimize the portfoio\u001b[0m\u001b[0;34m\u001b[0m\u001b[0;34m\u001b[0m\u001b[0m\n\u001b[1;32m      4\u001b[0m \u001b[0mrets\u001b[0m \u001b[0;34m=\u001b[0m \u001b[0mlog_returns\u001b[0m\u001b[0;34m\u001b[0m\u001b[0m\n\u001b[1;32m      5\u001b[0m \u001b[0myear_ret\u001b[0m \u001b[0;34m=\u001b[0m \u001b[0mrets\u001b[0m\u001b[0;34m.\u001b[0m\u001b[0mmean\u001b[0m\u001b[0;34m(\u001b[0m\u001b[0;34m)\u001b[0m\u001b[0;34m*\u001b[0m\u001b[0;36m252\u001b[0m\u001b[0;34m\u001b[0m\u001b[0m\n",
      "\u001b[0;31mNameError\u001b[0m: name 'data' is not defined"
     ]
    }
   ],
   "source": [
    "# Initial analysis, calculate the rate of return \n",
    "log_returns = np.log(data/data.shift(1)) \n",
    "# To optimize the portfoio\n",
    "rets = log_returns\n",
    "year_ret = rets.mean()*252 # calculate tearly rate of return \n",
    "year_volatility = rets.cov()*252 # calculate the covariance matrix"
   ]
  },
  {
   "cell_type": "code",
   "execution_count": null,
   "metadata": {
    "collapsed": true
   },
   "outputs": [],
   "source": [
    "number_of_assets = 10 # we have 10 stocks in total\n",
    "weights = np.random.randon(number_of_assets) # generate 10 random numbers\n",
    "weights /= np.sum(weights) # to normalize the 10 random variables and make their sum to 1"
   ]
  },
  {
   "cell_type": "code",
   "execution_count": null,
   "metadata": {
    "collapsed": true
   },
   "outputs": [],
   "source": [
    "portfolio_returns = []\n",
    "portfolio_volatilities = [] # create new list to store the returns and volatities calculated later\n",
    "for p in range(5000):\n",
    "    weights = np.random.random(number_of_assets)\n",
    "    weights /=np.sum(weights)\n",
    "    portfplio_returns.append(np.sum(rets.mean()*weights)*252)\n",
    "    portfolio_volatilities.append(np.sqrt(np.dot(weights.T, np.dot(rets.cov() *252,weights))))"
   ]
  },
  {
   "cell_type": "code",
   "execution_count": 9,
   "metadata": {},
   "outputs": [],
   "source": [
    "portfolio_returns = np.array(portfolio_returns)\n",
    "portfolio_volatilities = np.array(portfolio_volatilities)"
   ]
  },
  {
   "cell_type": "code",
   "execution_count": null,
   "metadata": {
    "collapsed": true
   },
   "outputs": [],
   "source": [
    "# draw a scatter picture to find the point with highest sharp ratio\n",
    "plt.figure(figsize(9,5))\n",
    "plt.scatter(portfolio_volatilities, portfolio_returns, c=portfolio_returns/portfolio_volatilities, marker='o')\n",
    "plt.grid(True)\n",
    "plt.xlabel('expected volatility')\n",
    "plt.ylabel('expected return')\n",
    "plt.colorbar(label='Sharpe ratio')"
   ]
  },
  {
   "cell_type": "code",
   "execution_count": 15,
   "metadata": {},
   "outputs": [],
   "source": [
    "# use a function, when you input weights, the rate of return, votalities and sharpe ratio will be the output\n",
    "def calculations(weights):\n",
    "    weights = np.array(weights)\n",
    "    pret = np.sum(rets.mean()*weights)*252\n",
    "    pvol = np.sqrt(np.dot(weights.T,np.dot(rets.cov()*252, weights)))\n",
    "    return np.array([pret, pvol, pret/pvol])"
   ]
  },
  {
   "cell_type": "code",
   "execution_count": null,
   "metadata": {
    "collapsed": true
   },
   "outputs": [],
   "source": [
    "# return minus sharpe ratio\n",
    "def min_func_sharpe(weights):\n",
    "    return -calculations(weights)[2]"
   ]
  },
  {
   "cell_type": "code",
   "execution_count": null,
   "metadata": {
    "collapsed": true
   },
   "outputs": [],
   "source": [
    "#use package to apply minimization optimization algorithm \n",
    "opts = sco.minimize(min_fun_sharpe, number_of assets * [1. / number_of_assets,], method='SLSQP', bounds=bnds, constraints=cons)"
   ]
  },
  {
   "cell_type": "code",
   "execution_count": 16,
   "metadata": {
    "collapsed": true
   },
   "outputs": [],
   "source": [
    "bnds = tuple(0,1) for x in range(number_of_assets()) # boundary condition:every weight needs to be in(0,1)\n",
    "cons = ({'type': 'eq', 'fun':lambda x: np.sum(x) - 1}) # constraints "
   ]
  },
  {
   "cell_type": "code",
   "execution_count": null,
   "metadata": {
    "collapsed": true
   },
   "outputs": [],
   "source": [
    "opts['x'].round(3) # weight distribution under the largest sharp ratio\n",
    "calculations(opts['x'].round(3)) # get rate of return, votality and sharpe ratio"
   ]
  },
  {
   "cell_type": "code",
   "execution_count": null,
   "metadata": {
    "collapsed": true
   },
   "outputs": [],
   "source": [
    "# minimum variance portfolio\n",
    "def min_func_variance(weights):\n",
    "    return calculations(weight)[1]**2"
   ]
  },
  {
   "cell_type": "code",
   "execution_count": null,
   "metadata": {
    "collapsed": true
   },
   "outputs": [],
   "source": [
    "optv = sco.minimize(min_func_variance, number_of_assets * [1. / number_of_assets,], method= 'SLSQP',bounds=bnds,constraints=cons)"
   ]
  },
  {
   "cell_type": "code",
   "execution_count": null,
   "metadata": {
    "collapsed": true
   },
   "outputs": [],
   "source": [
    "# To calculate efficient frontier, set of optimal portfolios that have the lowest risk for a given level of expected return.\n",
    "def min_func_port(weights):   # to get volatility \n",
    "    return calculations(weight)[1] \n",
    "\n",
    "target_returns = np.linspace(0.35, 0.65,30) # set rate of return \n",
    "target_volatilities = []\n",
    "# in order to minimize the target volatility\n",
    "for tret in target_returns:\n",
    "    cons = ({'type': 'eq', 'fun': lambda x: calculations(x)[0] - tret}, {'type':'eq','fun':lambda x: np.sum(x)0-1})\n",
    "    res = sco.minimize(min_func_port, number_of_assets * [1. / number_of_assets,], method='SLSQP', bounds=bnds, constraints=cons)\n",
    "    target_volatities.append(res['fun'])"
   ]
  },
  {
   "cell_type": "code",
   "execution_count": 17,
   "metadata": {},
   "outputs": [
    {
     "ename": "NameError",
     "evalue": "name 'portfolio_volatilties' is not defined",
     "output_type": "error",
     "traceback": [
      "\u001b[0;31m---------------------------------------------------------------------------\u001b[0m",
      "\u001b[0;31mNameError\u001b[0m                                 Traceback (most recent call last)",
      "\u001b[0;32m<ipython-input-17-22286dd0d572>\u001b[0m in \u001b[0;36m<module>\u001b[0;34m()\u001b[0m\n\u001b[1;32m      1\u001b[0m \u001b[0;31m# to draw a pricture gathered all the portfolio sets together\u001b[0m\u001b[0;34m\u001b[0m\u001b[0;34m\u001b[0m\u001b[0m\n\u001b[1;32m      2\u001b[0m \u001b[0mplt\u001b[0m\u001b[0;34m.\u001b[0m\u001b[0mfigure\u001b[0m\u001b[0;34m(\u001b[0m\u001b[0mfigsize\u001b[0m\u001b[0;34m=\u001b[0m\u001b[0;34m(\u001b[0m\u001b[0;36m9\u001b[0m\u001b[0;34m,\u001b[0m\u001b[0;36m5\u001b[0m\u001b[0;34m)\u001b[0m\u001b[0;34m)\u001b[0m\u001b[0;34m\u001b[0m\u001b[0m\n\u001b[0;32m----> 3\u001b[0;31m \u001b[0mplt\u001b[0m\u001b[0;34m.\u001b[0m\u001b[0mscatter\u001b[0m\u001b[0;34m(\u001b[0m\u001b[0mportfolio_volatilties\u001b[0m\u001b[0;34m,\u001b[0m \u001b[0mportfolio_returns\u001b[0m\u001b[0;34m,\u001b[0m \u001b[0mc\u001b[0m\u001b[0;34m=\u001b[0m\u001b[0mportfolio_returns\u001b[0m \u001b[0;34m/\u001b[0m \u001b[0mportfolio_volatilties\u001b[0m\u001b[0;34m,\u001b[0m \u001b[0mmarker\u001b[0m \u001b[0;34m=\u001b[0m \u001b[0;34m'o'\u001b[0m\u001b[0;34m)\u001b[0m \u001b[0;31m#random portfolio\u001b[0m\u001b[0;34m\u001b[0m\u001b[0m\n\u001b[0m\u001b[1;32m      4\u001b[0m \u001b[0mplt\u001b[0m\u001b[0;34m.\u001b[0m\u001b[0mscatter\u001b[0m\u001b[0;34m(\u001b[0m\u001b[0mtarget_volatilities\u001b[0m\u001b[0;34m,\u001b[0m \u001b[0mtarget_returns\u001b[0m\u001b[0;34m,\u001b[0m \u001b[0mc\u001b[0m\u001b[0;34m=\u001b[0m\u001b[0mportfolio_returns\u001b[0m \u001b[0;34m/\u001b[0m \u001b[0mportfolio_volatilties\u001b[0m\u001b[0;34m,\u001b[0m \u001b[0mmarker\u001b[0m \u001b[0;34m=\u001b[0m \u001b[0;34m'x'\u001b[0m\u001b[0;34m)\u001b[0m\u001b[0;34m\u001b[0m\u001b[0m\n\u001b[1;32m      5\u001b[0m \u001b[0mplt\u001b[0m\u001b[0;34m.\u001b[0m\u001b[0mplot\u001b[0m\u001b[0;34m(\u001b[0m\u001b[0mcalculations\u001b[0m\u001b[0;34m(\u001b[0m\u001b[0mopts\u001b[0m\u001b[0;34m[\u001b[0m\u001b[0;34m'x'\u001b[0m\u001b[0;34m]\u001b[0m\u001b[0;34m)\u001b[0m\u001b[0;34m[\u001b[0m\u001b[0;36m1\u001b[0m\u001b[0;34m]\u001b[0m\u001b[0;34m,\u001b[0m \u001b[0mcalculations\u001b[0m\u001b[0;34m(\u001b[0m\u001b[0mopts\u001b[0m\u001b[0;34m[\u001b[0m\u001b[0;34m'x'\u001b[0m\u001b[0;34m]\u001b[0m\u001b[0;34m)\u001b[0m\u001b[0;34m[\u001b[0m\u001b[0;36m0\u001b[0m\u001b[0;34m]\u001b[0m\u001b[0;34m,\u001b[0m \u001b[0;34m'r*'\u001b[0m\u001b[0;34m,\u001b[0m \u001b[0mmarkersize\u001b[0m\u001b[0;34m=\u001b[0m\u001b[0;36m15.0\u001b[0m\u001b[0;34m)\u001b[0m\u001b[0;34m\u001b[0m\u001b[0m\n",
      "\u001b[0;31mNameError\u001b[0m: name 'portfolio_volatilties' is not defined"
     ]
    }
   ],
   "source": [
    "# to draw a pricture gathered all the portfolio sets together\n",
    "plt.figure(figsize=(9,5))\n",
    "plt.scatter(portfolio_volatilties, portfolio_returns, c=portfolio_returns / portfolio_volatilties, marker = 'o') #random portfolio\n",
    "plt.scatter(target_volatilities, target_returns, c=portfolio_returns / portfolio_volatilties, marker = 'x') \n",
    "plt.plot(calculations(opts['x'])[1], calculations(opts['x'])[0], 'r*', markersize=15.0)\n",
    "plt.plot(calculations(optv['x'])[1], calculations(optv['x'])[0], 'y*', markersize=15.0)\n",
    "plt.grid(True)\n",
    "plt.xlabel('expected volatility')\n",
    "plt.ylabel('expected return')\n",
    "plt.colorbar(label='Sharpe ratio')"
   ]
  },
  {
   "cell_type": "code",
   "execution_count": null,
   "metadata": {
    "collapsed": true
   },
   "outputs": [],
   "source": []
  }
 ],
 "metadata": {
  "kernelspec": {
   "display_name": "Python 3",
   "language": "python",
   "name": "python3"
  },
  "language_info": {
   "codemirror_mode": {
    "name": "ipython",
    "version": 3
   },
   "file_extension": ".py",
   "mimetype": "text/x-python",
   "name": "python",
   "nbconvert_exporter": "python",
   "pygments_lexer": "ipython3",
   "version": "3.6.3"
  }
 },
 "nbformat": 4,
 "nbformat_minor": 2
}
