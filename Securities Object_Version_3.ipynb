{
 "cells": [
  {
   "cell_type": "code",
   "execution_count": 1,
   "metadata": {},
   "outputs": [],
   "source": [
    "import numpy as np\n",
    "import pandas as pd"
   ]
  },
  {
   "cell_type": "code",
   "execution_count": 34,
   "metadata": {},
   "outputs": [],
   "source": [
    "\"\"\"\n",
    "A class that performs as one kind of stocks\n",
    "\"\"\"\n",
    "\n",
    "class Securities:\n",
    "#     class level attributes\n",
    "    \n",
    "#     Initialized with daily closed price\n",
    "#     price and shares are the present price and shares to initialized\n",
    "#     preprice in the price of previous period \n",
    "    def __init__(self, name: str, price, shares):\n",
    "        self.price = price\n",
    "        self.shares = shares\n",
    "        self.name = name\n",
    "        setattr(self, 'preprice', price) # automatically initiate preprice and preshares attributes to calculate gains from this stock\n",
    "        setattr(self, 'preshares', shares)\n",
    "        setattr(self, 'modify', 0) # .modify is the attibute that indicate shares to modify\n",
    "        \n",
    "    @property\n",
    "    def price(self):\n",
    "        return self._price\n",
    "        \n",
    "    @price.setter\n",
    "    def price(self,price):\n",
    "        if price < 0:\n",
    "            raise ValueError(\"Price of securities cannot be negative\")\n",
    "        self._price = price\n",
    "        \n",
    "# -----------------------------------------------------------------------\n",
    "# setting methods\n",
    "    def reset(self, new_price, shares_to_modify):\n",
    "        self.preshares = self.shares\n",
    "        if shares_to_modify < 0:\n",
    "            if -shares_to_modify > self.shares:\n",
    "                raise ValueError('Can not sell more shares than you have')\n",
    "            else:\n",
    "                self.shares += shares_to_modify\n",
    "        else:\n",
    "            self.shares += shares_to_modify\n",
    "        self.preprice = self.price\n",
    "        self.price = new_price\n",
    "        self.modify = shares_to_modify\n",
    "        \n",
    "#     .gains() returns the total gains(or losses) from selling(or buying) certain shares of stock at the present price\n",
    "    def gains(self):\n",
    "        if self.modify == 0:\n",
    "            raise ValueError('None shares need to modify.')\n",
    "        shares_to_modify = -self.modify\n",
    "        self.modify = 0 # important! reset the .modify attribute to be 0\n",
    "        return self.price * shares_to_modify"
   ]
  },
  {
   "cell_type": "code",
   "execution_count": 242,
   "metadata": {},
   "outputs": [],
   "source": [
    "\"\"\"\n",
    "A class that performs as a securities account\n",
    "\"\"\"\n",
    "class Account:\n",
    "#     class level attributes\n",
    "    INITCASH = 1000000\n",
    "    Tax = 0.25\n",
    "    \n",
    "#     stocks are one or several Securities objects\n",
    "#     marval -- market value of the portfolio\n",
    "    def __init__(self,*stocks):\n",
    "        values = [*stocks] # portfoio of this account\n",
    "        keys = [y.name for y in [*stocks]] # list of stocks' name in portfolio\n",
    "        self.port = dict(zip(keys, values))\n",
    "        marval = sum([y.price*y.shares for y in [*stocks]])\n",
    "        if marval > self.INITCASH:\n",
    "            raise ValueError('Cannot initiate account with total market value more than initial cash')\n",
    "        else:\n",
    "            setattr(self, 'cashleft', self.INITCASH - marval)\n",
    "            setattr(self, 'cashpool', self.INITCASH - marval)\n",
    "    \n",
    "# -------------------------------------------------------------------------\n",
    "# Start setting methods\n",
    "\n",
    "#     update the market value in time\n",
    "    @property\n",
    "    def marval(self):\n",
    "        marval = sum([x.price*x.shares for x in self.port.values()])\n",
    "        return marval\n",
    "    \n",
    "    def __repr__(self):\n",
    "        print(\"stock name | present price | present position\")\n",
    "        for stock_name in self.port.keys():\n",
    "            print(f\"{stock_name} \\t\\t {self.port[stock_name].price} \\t\\t {self.port[stock_name].shares}\")\n",
    "        return f'present market value: {self.marval}'\n",
    "        \n",
    "# The reallocation method will take a dict as input \n",
    "# The dict looks like {'AAPL':(10,0),'GOOGL':(12,100),'ORCL':(7.5,-100),...}, \n",
    "# keys of the dict are names of stocks to modify, for the dict-value tuple the first element is the new price and the second one is shares to modify\n",
    "# The method has 3 functions:\n",
    "#                             reset every Securities object that is to be modified\n",
    "#                             calculate the gains and losses of the account\n",
    "#                             calculate the yield of portfolio\n",
    "    # adjusts is a list of daily shares and price adjustment\n",
    "    def sell(self, adjusts: dict): \n",
    "        adjprice = dict(zip([x for x in adjusts.keys()], \n",
    "                            [y[0] for y in adjusts.values()]))\n",
    "        adjshares = dict(zip([x for x in adjusts.keys()], \n",
    "                             [y[1] for y in adjusts.values()]))\n",
    "        for adjust in adjshares.values():\n",
    "            if adjust >= 0:\n",
    "                raise ValueError('Shares to modify in the to-sell list must be negative!')\n",
    "        for stock in adjusts.keys():\n",
    "            if stock not in self.port.keys():\n",
    "                raise ValueError('Illegal adjustment! Can not sell stocks not in the portfolio')\n",
    "\n",
    "#          sell out all the stock in the to-sell list and cauculate gains\n",
    "        for stock_name in adjusts.keys():\n",
    "            new_price = adjprice[stock_name]\n",
    "            shares_to_modify = adjshares[stock_name]\n",
    "            stock = self.port[stock_name] # stock is a Securities object\n",
    "            stock.reset(new_price, shares_to_modify)  # important command to reset stock\n",
    "            gains = stock.gains()\n",
    "#             This is the objective execution of this function \n",
    "            self.cashpool += gains # gains cash from selling stocks in the to-sell list\n",
    "        soldout = list(stock for stock in self.port.values())\n",
    "        for stock in soldout: # remove the stocks whose position have been closed from the portfolio\n",
    "                if stock.shares == 0:\n",
    "                    del self.port[stock.name]\n",
    "        setattr(self, 'havesell', True)\n",
    "    \n",
    "    def buy(self, adjusts: dict):\n",
    "        if not self.havesell:\n",
    "            raise ValueError('You must sell some securities first obtaining some cash to support trading!')\n",
    "        adjprice = dict(zip([x for x in adjusts.keys()], \n",
    "                            [y[0] for y in adjusts.values()]))\n",
    "        adjshares = dict(zip([x for x in adjusts.keys()], \n",
    "                             [y[1] for y in adjusts.values()]))\n",
    "        for stock_name in adjusts.keys():\n",
    "            if adjshares[stock_name] <= 0:\n",
    "                raise ValueError('Shares in the adjusts must be positive!')\n",
    "            if stock_name not in self.port.keys():\n",
    "                new_stock = Securities(stock_name, \n",
    "                                       adjprice[stock_name],\n",
    "                                       adjshares[stock_name])\n",
    "                self.port[stock_name] = new_stock\n",
    "            stock = self.port[stock_name]\n",
    "            new_price = adjprice[stock_name]\n",
    "            modify = adjshares[stock_name]\n",
    "            stock.reset(new_price, modify)\n",
    "            gains = stock.gains()\n",
    "            if self.cashpool + gains < 0:\n",
    "                raise ValueError('Cannot use more money than cash pool!')\n",
    "            self.cashpool += gains\n",
    "        self.havesell = False\n",
    "            \n",
    "            "
   ]
  },
  {
   "cell_type": "code",
   "execution_count": 243,
   "metadata": {},
   "outputs": [
    {
     "name": "stdout",
     "output_type": "stream",
     "text": [
      "stock name | present price | present position\n",
      "AAPL \t\t 110 \t\t 2000\n",
      "GOOGL \t\t 23 \t\t 1000\n",
      "ORCL \t\t 52 \t\t 3000\n",
      "AMZN \t\t 206 \t\t 1200\n",
      "IBM \t\t 87 \t\t 4000\n"
     ]
    },
    {
     "data": {
      "text/plain": [
       "'present market value: 994200'"
      ]
     },
     "execution_count": 243,
     "metadata": {},
     "output_type": "execute_result"
    }
   ],
   "source": [
    "apple = Securities('AAPL',110,2000)\n",
    "google = Securities('GOOGL',23,1000)\n",
    "oracle = Securities('ORCL',52,3000)\n",
    "amazon = Securities('AMZN',206,1200)\n",
    "ibm = Securities('IBM',87,4000)\n",
    "account = Account(apple,google,oracle,amazon,ibm)\n",
    "repr(account)"
   ]
  },
  {
   "cell_type": "code",
   "execution_count": 212,
   "metadata": {},
   "outputs": [
    {
     "data": {
      "text/plain": [
       "5800"
      ]
     },
     "execution_count": 212,
     "metadata": {},
     "output_type": "execute_result"
    }
   ],
   "source": [
    "account.cashpool\n",
    "# account.havesell"
   ]
  },
  {
   "cell_type": "code",
   "execution_count": 213,
   "metadata": {},
   "outputs": [
    {
     "data": {
      "text/plain": [
       "{'AAPL': <__main__.Securities at 0x10cbe8ac8>,\n",
       " 'GOOGL': <__main__.Securities at 0x10cbe8da0>,\n",
       " 'ORCL': <__main__.Securities at 0x10cbcc240>,\n",
       " 'AMZN': <__main__.Securities at 0x10cbcc160>,\n",
       " 'IBM': <__main__.Securities at 0x10cbccc88>}"
      ]
     },
     "execution_count": 213,
     "metadata": {},
     "output_type": "execute_result"
    }
   ],
   "source": [
    "account.port"
   ]
  },
  {
   "cell_type": "code",
   "execution_count": 214,
   "metadata": {},
   "outputs": [],
   "source": [
    "adjusts = {'AAPL':(111,-1000),\n",
    "           'GOOGL':(15,1000),\n",
    "           'ORCL':(66,-3000),\n",
    "           'AMZN':(190,500)}"
   ]
  },
  {
   "cell_type": "code",
   "execution_count": 215,
   "metadata": {},
   "outputs": [],
   "source": [
    "adjusts_sell = dict(x for x in adjusts.items() if x[1][1]<0)\n",
    "adjusts_buy = dict(x for x in adjusts.items() if x[1][1]>0)"
   ]
  },
  {
   "cell_type": "code",
   "execution_count": 216,
   "metadata": {},
   "outputs": [
    {
     "data": {
      "text/plain": [
       "{'GOOGL': (15, 1000), 'AMZN': (190, 500), 'BABA': (89, 2400)}"
      ]
     },
     "execution_count": 216,
     "metadata": {},
     "output_type": "execute_result"
    }
   ],
   "source": [
    "adjusts_buy['BABA'] = (89, 2400)\n",
    "adjusts_buy"
   ]
  },
  {
   "cell_type": "code",
   "execution_count": 217,
   "metadata": {},
   "outputs": [],
   "source": [
    "account.sell(adjusts_sell)"
   ]
  },
  {
   "cell_type": "code",
   "execution_count": 221,
   "metadata": {},
   "outputs": [
    {
     "data": {
      "text/plain": [
       "204800"
      ]
     },
     "execution_count": 221,
     "metadata": {},
     "output_type": "execute_result"
    }
   ],
   "source": [
    "account.cashpool"
   ]
  },
  {
   "cell_type": "code",
   "execution_count": 223,
   "metadata": {},
   "outputs": [
    {
     "data": {
      "text/plain": [
       "'<__main__.Account object at 0x10cbcc358>'"
      ]
     },
     "execution_count": 223,
     "metadata": {},
     "output_type": "execute_result"
    }
   ],
   "source": [
    "repr(account)"
   ]
  },
  {
   "cell_type": "code",
   "execution_count": 220,
   "metadata": {},
   "outputs": [
    {
     "ename": "ValueError",
     "evalue": "Cannot use more money than cash pool!",
     "output_type": "error",
     "traceback": [
      "\u001b[0;31m---------------------------------------------------------------------------\u001b[0m",
      "\u001b[0;31mValueError\u001b[0m                                Traceback (most recent call last)",
      "\u001b[0;32m<ipython-input-220-a53ad9ddefa7>\u001b[0m in \u001b[0;36m<module>\u001b[0;34m()\u001b[0m\n\u001b[0;32m----> 1\u001b[0;31m \u001b[0maccount\u001b[0m\u001b[0;34m.\u001b[0m\u001b[0mbuy\u001b[0m\u001b[0;34m(\u001b[0m\u001b[0madjusts_buy\u001b[0m\u001b[0;34m)\u001b[0m\u001b[0;34m\u001b[0m\u001b[0m\n\u001b[0m",
      "\u001b[0;32m<ipython-input-210-b580961d259f>\u001b[0m in \u001b[0;36mbuy\u001b[0;34m(self, adjusts)\u001b[0m\n\u001b[1;32m     85\u001b[0m             \u001b[0mgains\u001b[0m \u001b[0;34m=\u001b[0m \u001b[0mstock\u001b[0m\u001b[0;34m.\u001b[0m\u001b[0mgains\u001b[0m\u001b[0;34m(\u001b[0m\u001b[0;34m)\u001b[0m\u001b[0;34m\u001b[0m\u001b[0m\n\u001b[1;32m     86\u001b[0m             \u001b[0;32mif\u001b[0m \u001b[0mself\u001b[0m\u001b[0;34m.\u001b[0m\u001b[0mcashpool\u001b[0m \u001b[0;34m+\u001b[0m \u001b[0mgains\u001b[0m \u001b[0;34m<\u001b[0m \u001b[0;36m0\u001b[0m\u001b[0;34m:\u001b[0m\u001b[0;34m\u001b[0m\u001b[0m\n\u001b[0;32m---> 87\u001b[0;31m                 \u001b[0;32mraise\u001b[0m \u001b[0mValueError\u001b[0m\u001b[0;34m(\u001b[0m\u001b[0;34m'Cannot use more money than cash pool!'\u001b[0m\u001b[0;34m)\u001b[0m\u001b[0;34m\u001b[0m\u001b[0m\n\u001b[0m\u001b[1;32m     88\u001b[0m             \u001b[0mself\u001b[0m\u001b[0;34m.\u001b[0m\u001b[0mcashpool\u001b[0m \u001b[0;34m+=\u001b[0m \u001b[0mgains\u001b[0m\u001b[0;34m\u001b[0m\u001b[0m\n\u001b[1;32m     89\u001b[0m         \u001b[0mself\u001b[0m\u001b[0;34m.\u001b[0m\u001b[0mhavesell\u001b[0m \u001b[0;34m=\u001b[0m \u001b[0;32mFalse\u001b[0m\u001b[0;34m\u001b[0m\u001b[0m\n",
      "\u001b[0;31mValueError\u001b[0m: Cannot use more money than cash pool!"
     ]
    }
   ],
   "source": [
    "account.buy(adjusts_buy)"
   ]
  },
  {
   "cell_type": "code",
   "execution_count": 209,
   "metadata": {},
   "outputs": [
    {
     "data": {
      "text/plain": [
       "100"
      ]
     },
     "execution_count": 209,
     "metadata": {},
     "output_type": "execute_result"
    }
   ],
   "source": [
    "account.cashpool"
   ]
  },
  {
   "cell_type": "code",
   "execution_count": 109,
   "metadata": {},
   "outputs": [
    {
     "data": {
      "text/plain": [
       "-300"
      ]
     },
     "execution_count": 109,
     "metadata": {},
     "output_type": "execute_result"
    }
   ],
   "source": [
    "apple.gains()"
   ]
  },
  {
   "cell_type": "code",
   "execution_count": null,
   "metadata": {},
   "outputs": [],
   "source": []
  }
 ],
 "metadata": {
  "kernelspec": {
   "display_name": "Python 3",
   "language": "python",
   "name": "python3"
  },
  "language_info": {
   "codemirror_mode": {
    "name": "ipython",
    "version": 3
   },
   "file_extension": ".py",
   "mimetype": "text/x-python",
   "name": "python",
   "nbconvert_exporter": "python",
   "pygments_lexer": "ipython3",
   "version": "3.6.5"
  }
 },
 "nbformat": 4,
 "nbformat_minor": 2
}
