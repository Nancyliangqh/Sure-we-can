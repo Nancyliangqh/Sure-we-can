{
 "cells": [
  {
   "cell_type": "markdown",
   "metadata": {},
   "source": [
    "# N Smallest Capitalization Stock"
   ]
  },
  {
   "cell_type": "markdown",
   "metadata": {},
   "source": [
    "1. Set the number of stocks want to trade, N.\n",
    "1. 设定好要交易的股票数量stocksnum\n",
    "\n",
    "2. Find the first N number of stocks with the smallest market capitalization.\n",
    "2. 每天找出市值排名最小的前stocksnum只股票作为要买入的股票。\n",
    "\n",
    "3. Sell the stock if the price of the current stock holding is not small enough anymore (no in the list of N stocks)\n",
    "3. 若已持有的股票的市值已经不够小而不在要买入的股票中，则卖出这些股票。\n",
    "\n",
    "4. Buy the new stocks from the current list of N stocks with the smallest market capitalization.\n",
    "4. 买入要买入的股票，买入金额为当前可用资金的stocksnum分之一。"
   ]
  },
  {
   "cell_type": "code",
   "execution_count": 6,
   "metadata": {},
   "outputs": [],
   "source": [
    "import pandas as pd\n",
    "import numpy as np"
   ]
  },
  {
   "cell_type": "code",
   "execution_count": 7,
   "metadata": {},
   "outputs": [],
   "source": [
    "# Read in the sample data csv  (use df scraped from yahoo finance)\n",
    "# Use Close and Volume value to get daily market captalization for each stock \n",
    "# Market Cap = Close * Volume for each stock\n",
    "df = pd.read_csv('SampleData.csv')\n",
    "columns = df.columns.tolist()\n",
    "\n",
    "for x in columns[1:26]:\n",
    "    index = columns.index(x)\n",
    "    if index < 26:\n",
    "        market = df[df.columns[index]] * df[df.columns[index+25]]\n",
    "        df[str(x) + '_' + 'Mkt'] = market\n",
    "\n",
    "\n",
    "# Make the 'Date' row index\n",
    "df = df.set_index('Date')"
   ]
  },
  {
   "cell_type": "code",
   "execution_count": 8,
   "metadata": {
    "scrolled": true
   },
   "outputs": [],
   "source": [
    "# Only capture the Market Cap as needed\n",
    "# [:, 50:76] Depends on the dataset (50:76) numbers need to change\n",
    "df_small = df.iloc[:, 50:76]\n",
    "small = df_small.T"
   ]
  },
  {
   "cell_type": "code",
   "execution_count": null,
   "metadata": {},
   "outputs": [],
   "source": []
  },
  {
   "cell_type": "code",
   "execution_count": 96,
   "metadata": {},
   "outputs": [],
   "source": [
    "# small1 = small.sort_values([small.columns[0]])\n",
    "# list1 = np.array(small1.index[0:5]).tolist()\n",
    "# choice = np.array(small1.index[0:stocknum]).tolist()\n",
    "# choice1 = [i.split('_')[0] for i in choice]\n",
    "# small2 = small.sort_values([small.columns[1]])\n",
    "# list2 = np.array(small2.index[0:5]).tolist()\n",
    "# print(small1)\n",
    "#print(choice)\n",
    "#print(small2)\n",
    "# a = []\n",
    "# a.append(list1)\n",
    "# a.append(list2)\n",
    "# print(a)"
   ]
  },
  {
   "cell_type": "code",
   "execution_count": null,
   "metadata": {},
   "outputs": [],
   "source": []
  },
  {
   "cell_type": "markdown",
   "metadata": {},
   "source": [
    "FINAL USE!!!!"
   ]
  },
  {
   "cell_type": "code",
   "execution_count": 9,
   "metadata": {},
   "outputs": [],
   "source": [
    "### function to get the initial basket from date x ###\n",
    "def initial_day(x, cashpool, stocknum):\n",
    "    position = small.columns.tolist().index(x) # get the column index of the date x input\n",
    "    small1 = small.sort_values([x]) # sort according to date x\n",
    "    choice = np.array(small1.index[0:stocknum]).tolist() # get the smallest N(5) stocks of the day\n",
    "    choice = [i.split('_')[0] for i in choice]\n",
    "\n",
    "    # get the column name I want to find the close price for each stock on day x\n",
    "    price = [i.split('_')[0] + \"_\" + 'Close' for i in choice]\n",
    "\n",
    "    # find the close price for each stock on day x\n",
    "    close = []\n",
    "    for i in range(len(price)):\n",
    "        b = df.loc[x, price[i]]\n",
    "        close.append(b)\n",
    "        invest = cashpool / stocknum\n",
    "        share = [int(invest / i) for i in close]\n",
    "        buy_dict = dict(zip(choice, share)) # update buy_list for INITIAL day x\n",
    "    return buy_dict"
   ]
  },
  {
   "cell_type": "code",
   "execution_count": 18,
   "metadata": {},
   "outputs": [],
   "source": [
    "def second_day(x): # x - the first day!!!!!!\n",
    "    position = small.columns.tolist().index(x) # get the column index of second day of the date x input\n",
    "    y = small.columns[position + 1]\n",
    "    small2 = small.sort_values([y]) # sort according to date x\n",
    "    choice2 = np.array(small2.index[0:5]).tolist() # get the smallest N(5) stocks of the second day\n",
    "    choice2 = [i.split('_')[0] for i in choice2]\n",
    "    ones = np.ones(5, dtype=int) # give all 1 to  to buy for each stock\n",
    "    a = dict(zip(choice2, ones)) \n",
    "    \n",
    "    ### FINALIZED 3 dicts to return at the end ###\n",
    "    buy_dict = initial_day('2016-11-21', 100000, 5)\n",
    "    buy = {k:a[k] for k in a if k not in buy_dict} # in second day's purchase list, not in day x, buy\n",
    "    keep = {k:0 for k in a if k in buy_dict} # in both days' purchase list, keep no change\n",
    "    sell = {k:-buy_dict[k] for k,v in buy_dict.items() if k not in a} # in day x not in second day's purchase, sell \n",
    "    \n",
    "    return (buy, keep, sell)\n",
    "    \n",
    "\n",
    "#     # get the column name I want to find the close price for each stock on day x\n",
    "#     price2 = [i.split('_')[0] + '_' + 'Close' for i in choice2]\n",
    "    \n",
    "#     # find the close price for each stock on day x\n",
    "#     close2 = []\n",
    "#     for i in range(len(price2)):\n",
    "#         b = df.loc[x, price2[i]]\n",
    "#         close2.append(b)\n",
    "#         invest = cashpool / stocknum\n",
    "#         share2 = [int(invest / i) for i in close2]\n",
    "#         buy_dict = dict(zip(choice2, share2)) # update buy_list for INITIAL day x\n",
    "     \n",
    "#     return buy_dict"
   ]
  },
  {
   "cell_type": "code",
   "execution_count": 19,
   "metadata": {},
   "outputs": [
    {
     "data": {
      "text/plain": [
       "({'X': 1, 'CHK': 1},\n",
       " {'LYG': 0, 'ABEV': 0, 'SIRI': 0},\n",
       " {'AMRN': -5763, 'PCG': -338})"
      ]
     },
     "execution_count": 19,
     "metadata": {},
     "output_type": "execute_result"
    }
   ],
   "source": [
    "second_day('2018-11-13')"
   ]
  }
 ],
 "metadata": {
  "kernelspec": {
   "display_name": "Python 3",
   "language": "python",
   "name": "python3"
  },
  "language_info": {
   "codemirror_mode": {
    "name": "ipython",
    "version": 3
   },
   "file_extension": ".py",
   "mimetype": "text/x-python",
   "name": "python",
   "nbconvert_exporter": "python",
   "pygments_lexer": "ipython3",
   "version": "3.6.5"
  }
 },
 "nbformat": 4,
 "nbformat_minor": 2
}
