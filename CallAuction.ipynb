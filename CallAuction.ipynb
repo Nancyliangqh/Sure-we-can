{
 "cells": [
  {
   "cell_type": "markdown",
   "metadata": {},
   "source": [
    "Call Auction\n",
    "\n",
    "Basic Concept:\n",
    "\n",
    "A call auction is an order driven facility that batches multiple orders together for simultaneous execution in a multilateral trade, at a single price, at a predetermined point in time. This contrasts with continuous trading where a trade can occur whenever a buy and a sell order cross in price.\n",
    "http://what-when-how.com/finance/call-auction-trading-finance/\n",
    "\n",
    "In a call auction, trades are executed according to an order-driven system. They use single price auctions that match buyers and sellers orders, and then, a single trading price is chosen that will maximize volume."
   ]
  },
  {
   "cell_type": "code",
   "execution_count": 1,
   "metadata": {},
   "outputs": [
    {
     "ename": "ModuleNotFoundError",
     "evalue": "No module named 'gm'",
     "output_type": "error",
     "traceback": [
      "\u001b[0;31m---------------------------------------------------------------------------\u001b[0m",
      "\u001b[0;31mModuleNotFoundError\u001b[0m                       Traceback (most recent call last)",
      "\u001b[0;32m<ipython-input-1-ffdf28ceae1b>\u001b[0m in \u001b[0;36m<module>\u001b[0;34m()\u001b[0m\n\u001b[1;32m      1\u001b[0m \u001b[0;31m# coding=utf-8\u001b[0m\u001b[0;34m\u001b[0m\u001b[0;34m\u001b[0m\u001b[0m\n\u001b[1;32m      2\u001b[0m \u001b[0;32mfrom\u001b[0m \u001b[0m__future__\u001b[0m \u001b[0;32mimport\u001b[0m \u001b[0mprint_function\u001b[0m\u001b[0;34m,\u001b[0m \u001b[0mabsolute_import\u001b[0m\u001b[0;34m,\u001b[0m \u001b[0municode_literals\u001b[0m\u001b[0;34m\u001b[0m\u001b[0m\n\u001b[0;32m----> 3\u001b[0;31m \u001b[0;32mfrom\u001b[0m \u001b[0mgm\u001b[0m\u001b[0;34m.\u001b[0m\u001b[0mapi\u001b[0m \u001b[0;32mimport\u001b[0m \u001b[0;34m*\u001b[0m\u001b[0;34m\u001b[0m\u001b[0m\n\u001b[0m",
      "\u001b[0;31mModuleNotFoundError\u001b[0m: No module named 'gm'"
     ]
    }
   ],
   "source": [
    "# coding=utf-8\n",
    "from __future__ import print_function, absolute_import, unicode_literals\n",
    "from gm.api import *"
   ]
  },
  {
   "cell_type": "code",
   "execution_count": null,
   "metadata": {},
   "outputs": [],
   "source": [
    "def init(context):\n",
    "    # algo mission starts at 9:40 AM on the first day of the month\n",
    "    schedule(schedule_func=algo, date_rule='1m', time_rule='09:40:00')\n",
    "    # day count threshold\n",
    "    context.count_bench = 10\n",
    "    # difference in days\n",
    "    context.count = 30\n",
    "    # largest ratio\n",
    "    context.ratio = 0.8"
   ]
  }
 ],
 "metadata": {
  "kernelspec": {
   "display_name": "Python 3",
   "language": "python",
   "name": "python3"
  },
  "language_info": {
   "codemirror_mode": {
    "name": "ipython",
    "version": 3
   },
   "file_extension": ".py",
   "mimetype": "text/x-python",
   "name": "python",
   "nbconvert_exporter": "python",
   "pygments_lexer": "ipython3",
   "version": "3.6.5"
  }
 },
 "nbformat": 4,
 "nbformat_minor": 2
}
